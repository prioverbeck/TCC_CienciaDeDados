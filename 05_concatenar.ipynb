{
 "cells": [
  {
   "cell_type": "code",
   "execution_count": 1,
   "metadata": {},
   "outputs": [],
   "source": [
    "import pandas as pd"
   ]
  },
  {
   "cell_type": "code",
   "execution_count": 2,
   "metadata": {},
   "outputs": [],
   "source": [
    "path = 'D:/000000001_ENEM/DADOS_PROCESSADOS/'"
   ]
  },
  {
   "cell_type": "code",
   "execution_count": 3,
   "metadata": {},
   "outputs": [],
   "source": [
    "anos = ['2015', '2016', '2017', '2018', '2019']"
   ]
  },
  {
   "cell_type": "code",
   "execution_count": 4,
   "metadata": {},
   "outputs": [],
   "source": [
    "concatenado_rs = pd.DataFrame()\n",
    "concatenado_mt = pd.DataFrame()\n",
    "concatenado_df = pd.DataFrame()\n",
    "medias_gerais = pd.DataFrame()\n",
    "medias_gerais_tpescola = pd.DataFrame()\n",
    "concatenado = pd.DataFrame()"
   ]
  },
  {
   "cell_type": "code",
   "execution_count": 5,
   "metadata": {},
   "outputs": [],
   "source": [
    "for a in anos:\n",
    "    enem_rs = pd.read_csv(path+'enem_'+a+'_RS.csv', sep = ';', encoding = 'ISO-8859-1')\n",
    "    concatenado_rs = pd.concat([concatenado_rs, enem_rs], sort = True)\n",
    "\n",
    "concatenado_rs.to_csv(path+'enem_RS.csv', sep = ';', index = None, encoding = 'ISO-8859-1')"
   ]
  },
  {
   "cell_type": "code",
   "execution_count": 6,
   "metadata": {},
   "outputs": [],
   "source": [
    "for a in anos:\n",
    "    enem_mt = pd.read_csv(path+'enem_'+a+'_MT.csv', sep = ';', encoding = 'ISO-8859-1')\n",
    "    concatenado_mt = pd.concat([concatenado_mt, enem_mt], sort = True)\n",
    "    \n",
    "concatenado_mt.to_csv(path+'enem_MT.csv', sep = ';', index = None, encoding = 'ISO-8859-1')"
   ]
  },
  {
   "cell_type": "code",
   "execution_count": 7,
   "metadata": {},
   "outputs": [],
   "source": [
    "for a in anos:\n",
    "    enem_df = pd.read_csv(path+'enem_'+a+'_DF.csv', sep = ';', encoding = 'ISO-8859-1')\n",
    "    concatenado_df = pd.concat([concatenado_df, enem_df], sort = True)\n",
    "    \n",
    "concatenado_df.to_csv(path+'enem_DF.csv', sep = ';', index = None, encoding = 'ISO-8859-1')"
   ]
  },
  {
   "cell_type": "code",
   "execution_count": 8,
   "metadata": {},
   "outputs": [],
   "source": [
    "for a in anos:\n",
    "    medias = pd.read_csv(path+'medias_'+a+'.csv', sep = ';', encoding = 'ISO-8859-1')\n",
    "    medias_gerais = pd.concat([medias, medias_gerais], sort = True)\n",
    "    \n",
    "medias_gerais.to_csv(path+'medias_gerais.csv', sep = ';', index = None, encoding = 'ISO-8859-1')"
   ]
  },
  {
   "cell_type": "code",
   "execution_count": 9,
   "metadata": {},
   "outputs": [],
   "source": [
    "for a in anos:\n",
    "    medias_tpescola = pd.read_csv(path+'medias_tpescola_'+a+'.csv', sep = ';', encoding = 'ISO-8859-1')\n",
    "    medias_gerais_tpescola = pd.concat([medias_tpescola, medias_gerais_tpescola], sort = True)\n",
    "    medias_gerais_tpescola.replace(1, 'Federal', inplace = True)\n",
    "    medias_gerais_tpescola.replace(2, 'Estadual', inplace = True)\n",
    "    medias_gerais_tpescola.replace(3, 'Municipal', inplace = True)\n",
    "    medias_gerais_tpescola.replace(4, 'Privada', inplace = True)\n",
    "    \n",
    "medias_gerais_tpescola.to_csv(path+'medias_gerais_tpescola.csv', sep = ';', index = None, encoding = 'ISO-8859-1')"
   ]
  },
  {
   "cell_type": "code",
   "execution_count": 10,
   "metadata": {},
   "outputs": [],
   "source": [
    "ufs = ['RS', 'DF', 'MT']"
   ]
  },
  {
   "cell_type": "code",
   "execution_count": 11,
   "metadata": {},
   "outputs": [],
   "source": [
    "for u in ufs:\n",
    "    enem = pd.read_csv(path+'enem_'+ u +'.csv', sep = ';', encoding = 'ISO-8859-1')\n",
    "    concatenado = pd.concat([concatenado, enem], sort = True)\n",
    "\n",
    "concatenado.to_csv(path+'enem.csv', sep = ';', index = None, encoding = 'ISO-8859-1')"
   ]
  },
  {
   "cell_type": "code",
   "execution_count": 12,
   "metadata": {},
   "outputs": [
    {
     "data": {
      "text/plain": [
       "CO_ESCOLA                  628336\n",
       "CO_MUNICIPIO_RESIDENCIA    628336\n",
       "CO_UF_ESC                  628336\n",
       "IN_TREINEIRO               628336\n",
       "NO_MUNICIPIO_ESC           628336\n",
       "                            ...  \n",
       "TP_PRESENCA_MT             628328\n",
       "TP_SEXO                    628336\n",
       "TP_SIT_FUNC_ESC            627873\n",
       "TP_STATUS_REDACAO          554065\n",
       "TP_ST_CONCLUSAO            628336\n",
       "Length: 62, dtype: int64"
      ]
     },
     "execution_count": 12,
     "metadata": {},
     "output_type": "execute_result"
    }
   ],
   "source": [
    "concatenado.count()"
   ]
  },
  {
   "cell_type": "code",
   "execution_count": 13,
   "metadata": {},
   "outputs": [
    {
     "data": {
      "text/plain": [
       "CO_ESCOLA                  149005\n",
       "CO_MUNICIPIO_RESIDENCIA    149005\n",
       "CO_UF_ESC                  149005\n",
       "IN_TREINEIRO               149005\n",
       "NO_MUNICIPIO_ESC           149005\n",
       "                            ...  \n",
       "TP_PRESENCA_MT             149004\n",
       "TP_SEXO                    149005\n",
       "TP_SIT_FUNC_ESC            148753\n",
       "TP_STATUS_REDACAO          135047\n",
       "TP_ST_CONCLUSAO            149005\n",
       "Length: 62, dtype: int64"
      ]
     },
     "execution_count": 13,
     "metadata": {},
     "output_type": "execute_result"
    }
   ],
   "source": [
    "concatenado_df.count()"
   ]
  },
  {
   "cell_type": "code",
   "execution_count": 14,
   "metadata": {},
   "outputs": [
    {
     "data": {
      "text/plain": [
       "CO_ESCOLA                  134715\n",
       "CO_MUNICIPIO_RESIDENCIA    134715\n",
       "CO_UF_ESC                  134715\n",
       "IN_TREINEIRO               134715\n",
       "NO_MUNICIPIO_ESC           134715\n",
       "                            ...  \n",
       "TP_PRESENCA_MT             134713\n",
       "TP_SEXO                    134715\n",
       "TP_SIT_FUNC_ESC            134625\n",
       "TP_STATUS_REDACAO          116078\n",
       "TP_ST_CONCLUSAO            134715\n",
       "Length: 62, dtype: int64"
      ]
     },
     "execution_count": 14,
     "metadata": {},
     "output_type": "execute_result"
    }
   ],
   "source": [
    "concatenado_mt.count()"
   ]
  },
  {
   "cell_type": "code",
   "execution_count": 15,
   "metadata": {},
   "outputs": [
    {
     "data": {
      "text/plain": [
       "CO_ESCOLA                  344616\n",
       "CO_MUNICIPIO_RESIDENCIA    344616\n",
       "CO_UF_ESC                  344616\n",
       "IN_TREINEIRO               344616\n",
       "NO_MUNICIPIO_ESC           344616\n",
       "                            ...  \n",
       "TP_PRESENCA_MT             344611\n",
       "TP_SEXO                    344616\n",
       "TP_SIT_FUNC_ESC            344495\n",
       "TP_STATUS_REDACAO          302940\n",
       "TP_ST_CONCLUSAO            344616\n",
       "Length: 62, dtype: int64"
      ]
     },
     "execution_count": 15,
     "metadata": {},
     "output_type": "execute_result"
    }
   ],
   "source": [
    "concatenado_rs.count()"
   ]
  },
  {
   "cell_type": "code",
   "execution_count": null,
   "metadata": {},
   "outputs": [],
   "source": []
  }
 ],
 "metadata": {
  "kernelspec": {
   "display_name": "Python 3",
   "language": "python",
   "name": "python3"
  },
  "language_info": {
   "codemirror_mode": {
    "name": "ipython",
    "version": 3
   },
   "file_extension": ".py",
   "mimetype": "text/x-python",
   "name": "python",
   "nbconvert_exporter": "python",
   "pygments_lexer": "ipython3",
   "version": "3.7.4"
  }
 },
 "nbformat": 4,
 "nbformat_minor": 2
}
