{
 "cells": [
  {
   "cell_type": "code",
   "execution_count": 1,
   "metadata": {},
   "outputs": [],
   "source": [
    "import numpy as np\n",
    "import pandas as pd\n",
    "import matplotlib.pyplot as plt\n",
    "import seaborn as sns"
   ]
  },
  {
   "cell_type": "code",
   "execution_count": 2,
   "metadata": {},
   "outputs": [],
   "source": [
    "path = 'D:/000000001_ENEM/DADOS_PROCESSADOS/'"
   ]
  },
  {
   "cell_type": "code",
   "execution_count": 3,
   "metadata": {},
   "outputs": [],
   "source": [
    "enem_df = pd.read_csv(path+'enem_DF.csv', sep = ';', encoding = 'ISO-8859-1')\n",
    "medias_gerais = pd.read_csv(path+'medias_gerais.csv', sep = ';', encoding = 'ISO-8859-1')"
   ]
  },
  {
   "cell_type": "code",
   "execution_count": 4,
   "metadata": {},
   "outputs": [
    {
     "data": {
      "text/html": [
       "<div>\n",
       "<style scoped>\n",
       "    .dataframe tbody tr th:only-of-type {\n",
       "        vertical-align: middle;\n",
       "    }\n",
       "\n",
       "    .dataframe tbody tr th {\n",
       "        vertical-align: top;\n",
       "    }\n",
       "\n",
       "    .dataframe thead th {\n",
       "        text-align: right;\n",
       "    }\n",
       "</style>\n",
       "<table border=\"1\" class=\"dataframe\">\n",
       "  <thead>\n",
       "    <tr style=\"text-align: right;\">\n",
       "      <th></th>\n",
       "      <th>NU_ANO</th>\n",
       "      <th>NU_NOTA_CH</th>\n",
       "      <th>NU_NOTA_CN</th>\n",
       "      <th>NU_NOTA_LC</th>\n",
       "      <th>NU_NOTA_MT</th>\n",
       "      <th>NU_NOTA_REDACAO</th>\n",
       "    </tr>\n",
       "  </thead>\n",
       "  <tbody>\n",
       "    <tr>\n",
       "      <td>0</td>\n",
       "      <td>2019</td>\n",
       "      <td>507.248663</td>\n",
       "      <td>477.824087</td>\n",
       "      <td>520.517658</td>\n",
       "      <td>523.124122</td>\n",
       "      <td>571.188348</td>\n",
       "    </tr>\n",
       "    <tr>\n",
       "      <td>1</td>\n",
       "      <td>2018</td>\n",
       "      <td>568.097735</td>\n",
       "      <td>493.683265</td>\n",
       "      <td>526.453759</td>\n",
       "      <td>535.405566</td>\n",
       "      <td>508.680552</td>\n",
       "    </tr>\n",
       "    <tr>\n",
       "      <td>2</td>\n",
       "      <td>2017</td>\n",
       "      <td>518.825950</td>\n",
       "      <td>510.861932</td>\n",
       "      <td>510.205567</td>\n",
       "      <td>518.759652</td>\n",
       "      <td>522.557921</td>\n",
       "    </tr>\n",
       "    <tr>\n",
       "      <td>3</td>\n",
       "      <td>2016</td>\n",
       "      <td>534.440918</td>\n",
       "      <td>477.677301</td>\n",
       "      <td>520.907494</td>\n",
       "      <td>490.085402</td>\n",
       "      <td>529.966515</td>\n",
       "    </tr>\n",
       "    <tr>\n",
       "      <td>4</td>\n",
       "      <td>2015</td>\n",
       "      <td>558.487824</td>\n",
       "      <td>478.923950</td>\n",
       "      <td>505.454785</td>\n",
       "      <td>467.931176</td>\n",
       "      <td>388.409857</td>\n",
       "    </tr>\n",
       "  </tbody>\n",
       "</table>\n",
       "</div>"
      ],
      "text/plain": [
       "   NU_ANO  NU_NOTA_CH  NU_NOTA_CN  NU_NOTA_LC  NU_NOTA_MT  NU_NOTA_REDACAO\n",
       "0    2019  507.248663  477.824087  520.517658  523.124122       571.188348\n",
       "1    2018  568.097735  493.683265  526.453759  535.405566       508.680552\n",
       "2    2017  518.825950  510.861932  510.205567  518.759652       522.557921\n",
       "3    2016  534.440918  477.677301  520.907494  490.085402       529.966515\n",
       "4    2015  558.487824  478.923950  505.454785  467.931176       388.409857"
      ]
     },
     "execution_count": 4,
     "metadata": {},
     "output_type": "execute_result"
    }
   ],
   "source": [
    "medias_gerais"
   ]
  },
  {
   "cell_type": "code",
   "execution_count": 5,
   "metadata": {},
   "outputs": [],
   "source": [
    " medias_df = enem_df[['NU_NOTA_REDACAO','NU_NOTA_CN', 'NU_NOTA_MT', 'NU_NOTA_LC', 'NU_NOTA_CH', 'NU_ANO']].groupby(['NU_ANO']).mean().reset_index()"
   ]
  },
  {
   "cell_type": "code",
   "execution_count": 6,
   "metadata": {},
   "outputs": [],
   "source": [
    "medias_df.rename(columns = {'NU_NOTA_REDACAO':'NU_NOTA_REDACAO_DF','NU_NOTA_CN':'NU_NOTA_CN_DF', 'NU_NOTA_MT': 'NU_NOTA_MT_DF', 'NU_NOTA_LC': 'NU_NOTA_LC_DF', 'NU_NOTA_CH':'NU_NOTA_CH_DF'}, inplace = True)"
   ]
  },
  {
   "cell_type": "code",
   "execution_count": 7,
   "metadata": {},
   "outputs": [],
   "source": [
    "comparativo_redacao = pd.merge(medias_df[['NU_NOTA_REDACAO_DF','NU_ANO']], medias_gerais[['NU_NOTA_REDACAO','NU_ANO']], right_on = 'NU_ANO', left_on = 'NU_ANO', how ='outer')\n",
    "comparativo_redacao.set_index('NU_ANO', inplace = True)"
   ]
  },
  {
   "cell_type": "code",
   "execution_count": 8,
   "metadata": {},
   "outputs": [
    {
     "data": {
      "text/html": [
       "<div>\n",
       "<style scoped>\n",
       "    .dataframe tbody tr th:only-of-type {\n",
       "        vertical-align: middle;\n",
       "    }\n",
       "\n",
       "    .dataframe tbody tr th {\n",
       "        vertical-align: top;\n",
       "    }\n",
       "\n",
       "    .dataframe thead th {\n",
       "        text-align: right;\n",
       "    }\n",
       "</style>\n",
       "<table border=\"1\" class=\"dataframe\">\n",
       "  <thead>\n",
       "    <tr style=\"text-align: right;\">\n",
       "      <th></th>\n",
       "      <th>NU_NOTA_REDACAO_DF</th>\n",
       "      <th>NU_NOTA_REDACAO</th>\n",
       "    </tr>\n",
       "    <tr>\n",
       "      <th>NU_ANO</th>\n",
       "      <th></th>\n",
       "      <th></th>\n",
       "    </tr>\n",
       "  </thead>\n",
       "  <tbody>\n",
       "    <tr>\n",
       "      <td>2015</td>\n",
       "      <td>497.238460</td>\n",
       "      <td>388.409857</td>\n",
       "    </tr>\n",
       "    <tr>\n",
       "      <td>2016</td>\n",
       "      <td>567.991533</td>\n",
       "      <td>529.966515</td>\n",
       "    </tr>\n",
       "    <tr>\n",
       "      <td>2017</td>\n",
       "      <td>558.501535</td>\n",
       "      <td>522.557921</td>\n",
       "    </tr>\n",
       "    <tr>\n",
       "      <td>2018</td>\n",
       "      <td>546.980598</td>\n",
       "      <td>508.680552</td>\n",
       "    </tr>\n",
       "    <tr>\n",
       "      <td>2019</td>\n",
       "      <td>606.064022</td>\n",
       "      <td>571.188348</td>\n",
       "    </tr>\n",
       "  </tbody>\n",
       "</table>\n",
       "</div>"
      ],
      "text/plain": [
       "        NU_NOTA_REDACAO_DF  NU_NOTA_REDACAO\n",
       "NU_ANO                                     \n",
       "2015            497.238460       388.409857\n",
       "2016            567.991533       529.966515\n",
       "2017            558.501535       522.557921\n",
       "2018            546.980598       508.680552\n",
       "2019            606.064022       571.188348"
      ]
     },
     "execution_count": 8,
     "metadata": {},
     "output_type": "execute_result"
    }
   ],
   "source": [
    "comparativo_redacao"
   ]
  },
  {
   "cell_type": "code",
   "execution_count": 9,
   "metadata": {},
   "outputs": [],
   "source": [
    "comparativo_mt = pd.merge(medias_df[['NU_NOTA_MT_DF','NU_ANO']], medias_gerais[['NU_NOTA_MT','NU_ANO']], right_on = 'NU_ANO', left_on = 'NU_ANO', how ='outer')\n",
    "comparativo_mt.set_index('NU_ANO', inplace = True)"
   ]
  },
  {
   "cell_type": "code",
   "execution_count": 10,
   "metadata": {},
   "outputs": [
    {
     "data": {
      "text/html": [
       "<div>\n",
       "<style scoped>\n",
       "    .dataframe tbody tr th:only-of-type {\n",
       "        vertical-align: middle;\n",
       "    }\n",
       "\n",
       "    .dataframe tbody tr th {\n",
       "        vertical-align: top;\n",
       "    }\n",
       "\n",
       "    .dataframe thead th {\n",
       "        text-align: right;\n",
       "    }\n",
       "</style>\n",
       "<table border=\"1\" class=\"dataframe\">\n",
       "  <thead>\n",
       "    <tr style=\"text-align: right;\">\n",
       "      <th></th>\n",
       "      <th>NU_NOTA_MT_DF</th>\n",
       "      <th>NU_NOTA_MT</th>\n",
       "    </tr>\n",
       "    <tr>\n",
       "      <th>NU_ANO</th>\n",
       "      <th></th>\n",
       "      <th></th>\n",
       "    </tr>\n",
       "  </thead>\n",
       "  <tbody>\n",
       "    <tr>\n",
       "      <td>2015</td>\n",
       "      <td>487.079557</td>\n",
       "      <td>467.931176</td>\n",
       "    </tr>\n",
       "    <tr>\n",
       "      <td>2016</td>\n",
       "      <td>509.206006</td>\n",
       "      <td>490.085402</td>\n",
       "    </tr>\n",
       "    <tr>\n",
       "      <td>2017</td>\n",
       "      <td>532.710551</td>\n",
       "      <td>518.759652</td>\n",
       "    </tr>\n",
       "    <tr>\n",
       "      <td>2018</td>\n",
       "      <td>552.578687</td>\n",
       "      <td>535.405566</td>\n",
       "    </tr>\n",
       "    <tr>\n",
       "      <td>2019</td>\n",
       "      <td>540.500642</td>\n",
       "      <td>523.124122</td>\n",
       "    </tr>\n",
       "  </tbody>\n",
       "</table>\n",
       "</div>"
      ],
      "text/plain": [
       "        NU_NOTA_MT_DF  NU_NOTA_MT\n",
       "NU_ANO                           \n",
       "2015       487.079557  467.931176\n",
       "2016       509.206006  490.085402\n",
       "2017       532.710551  518.759652\n",
       "2018       552.578687  535.405566\n",
       "2019       540.500642  523.124122"
      ]
     },
     "execution_count": 10,
     "metadata": {},
     "output_type": "execute_result"
    }
   ],
   "source": [
    "comparativo_mt"
   ]
  },
  {
   "cell_type": "code",
   "execution_count": 11,
   "metadata": {},
   "outputs": [],
   "source": [
    "comparativo_ch = pd.merge(medias_df[['NU_NOTA_CH_DF','NU_ANO']], medias_gerais[['NU_NOTA_CH','NU_ANO']], right_on = 'NU_ANO', left_on = 'NU_ANO', how ='outer')\n",
    "comparativo_ch.set_index('NU_ANO', inplace = True)"
   ]
  },
  {
   "cell_type": "code",
   "execution_count": 12,
   "metadata": {},
   "outputs": [
    {
     "data": {
      "text/html": [
       "<div>\n",
       "<style scoped>\n",
       "    .dataframe tbody tr th:only-of-type {\n",
       "        vertical-align: middle;\n",
       "    }\n",
       "\n",
       "    .dataframe tbody tr th {\n",
       "        vertical-align: top;\n",
       "    }\n",
       "\n",
       "    .dataframe thead th {\n",
       "        text-align: right;\n",
       "    }\n",
       "</style>\n",
       "<table border=\"1\" class=\"dataframe\">\n",
       "  <thead>\n",
       "    <tr style=\"text-align: right;\">\n",
       "      <th></th>\n",
       "      <th>NU_NOTA_CH_DF</th>\n",
       "      <th>NU_NOTA_CH</th>\n",
       "    </tr>\n",
       "    <tr>\n",
       "      <th>NU_ANO</th>\n",
       "      <th></th>\n",
       "      <th></th>\n",
       "    </tr>\n",
       "  </thead>\n",
       "  <tbody>\n",
       "    <tr>\n",
       "      <td>2015</td>\n",
       "      <td>566.252830</td>\n",
       "      <td>558.487824</td>\n",
       "    </tr>\n",
       "    <tr>\n",
       "      <td>2016</td>\n",
       "      <td>551.982498</td>\n",
       "      <td>534.440918</td>\n",
       "    </tr>\n",
       "    <tr>\n",
       "      <td>2017</td>\n",
       "      <td>532.876832</td>\n",
       "      <td>518.825950</td>\n",
       "    </tr>\n",
       "    <tr>\n",
       "      <td>2018</td>\n",
       "      <td>580.567878</td>\n",
       "      <td>568.097735</td>\n",
       "    </tr>\n",
       "    <tr>\n",
       "      <td>2019</td>\n",
       "      <td>521.868449</td>\n",
       "      <td>507.248663</td>\n",
       "    </tr>\n",
       "  </tbody>\n",
       "</table>\n",
       "</div>"
      ],
      "text/plain": [
       "        NU_NOTA_CH_DF  NU_NOTA_CH\n",
       "NU_ANO                           \n",
       "2015       566.252830  558.487824\n",
       "2016       551.982498  534.440918\n",
       "2017       532.876832  518.825950\n",
       "2018       580.567878  568.097735\n",
       "2019       521.868449  507.248663"
      ]
     },
     "execution_count": 12,
     "metadata": {},
     "output_type": "execute_result"
    }
   ],
   "source": [
    "comparativo_ch"
   ]
  },
  {
   "cell_type": "code",
   "execution_count": 13,
   "metadata": {},
   "outputs": [],
   "source": [
    "comparativo_cn = pd.merge(medias_df[['NU_NOTA_CN_DF','NU_ANO']], medias_gerais[['NU_NOTA_CN','NU_ANO']], right_on = 'NU_ANO', left_on = 'NU_ANO', how ='outer')\n",
    "comparativo_cn.set_index('NU_ANO', inplace = True)"
   ]
  },
  {
   "cell_type": "code",
   "execution_count": 14,
   "metadata": {},
   "outputs": [
    {
     "data": {
      "text/html": [
       "<div>\n",
       "<style scoped>\n",
       "    .dataframe tbody tr th:only-of-type {\n",
       "        vertical-align: middle;\n",
       "    }\n",
       "\n",
       "    .dataframe tbody tr th {\n",
       "        vertical-align: top;\n",
       "    }\n",
       "\n",
       "    .dataframe thead th {\n",
       "        text-align: right;\n",
       "    }\n",
       "</style>\n",
       "<table border=\"1\" class=\"dataframe\">\n",
       "  <thead>\n",
       "    <tr style=\"text-align: right;\">\n",
       "      <th></th>\n",
       "      <th>NU_NOTA_CN_DF</th>\n",
       "      <th>NU_NOTA_CN</th>\n",
       "    </tr>\n",
       "    <tr>\n",
       "      <th>NU_ANO</th>\n",
       "      <th></th>\n",
       "      <th></th>\n",
       "    </tr>\n",
       "  </thead>\n",
       "  <tbody>\n",
       "    <tr>\n",
       "      <td>2015</td>\n",
       "      <td>492.492984</td>\n",
       "      <td>478.923950</td>\n",
       "    </tr>\n",
       "    <tr>\n",
       "      <td>2016</td>\n",
       "      <td>493.514758</td>\n",
       "      <td>477.677301</td>\n",
       "    </tr>\n",
       "    <tr>\n",
       "      <td>2017</td>\n",
       "      <td>523.045576</td>\n",
       "      <td>510.861932</td>\n",
       "    </tr>\n",
       "    <tr>\n",
       "      <td>2018</td>\n",
       "      <td>510.179464</td>\n",
       "      <td>493.683265</td>\n",
       "    </tr>\n",
       "    <tr>\n",
       "      <td>2019</td>\n",
       "      <td>491.369831</td>\n",
       "      <td>477.824087</td>\n",
       "    </tr>\n",
       "  </tbody>\n",
       "</table>\n",
       "</div>"
      ],
      "text/plain": [
       "        NU_NOTA_CN_DF  NU_NOTA_CN\n",
       "NU_ANO                           \n",
       "2015       492.492984  478.923950\n",
       "2016       493.514758  477.677301\n",
       "2017       523.045576  510.861932\n",
       "2018       510.179464  493.683265\n",
       "2019       491.369831  477.824087"
      ]
     },
     "execution_count": 14,
     "metadata": {},
     "output_type": "execute_result"
    }
   ],
   "source": [
    "comparativo_cn"
   ]
  },
  {
   "cell_type": "code",
   "execution_count": 15,
   "metadata": {},
   "outputs": [],
   "source": [
    "comparativo_lc = pd.merge(medias_df[['NU_NOTA_LC_DF','NU_ANO']], medias_gerais[['NU_NOTA_LC','NU_ANO']], right_on = 'NU_ANO', left_on = 'NU_ANO', how ='outer')\n",
    "comparativo_lc.set_index('NU_ANO', inplace = True)"
   ]
  },
  {
   "cell_type": "code",
   "execution_count": 16,
   "metadata": {},
   "outputs": [
    {
     "data": {
      "text/html": [
       "<div>\n",
       "<style scoped>\n",
       "    .dataframe tbody tr th:only-of-type {\n",
       "        vertical-align: middle;\n",
       "    }\n",
       "\n",
       "    .dataframe tbody tr th {\n",
       "        vertical-align: top;\n",
       "    }\n",
       "\n",
       "    .dataframe thead th {\n",
       "        text-align: right;\n",
       "    }\n",
       "</style>\n",
       "<table border=\"1\" class=\"dataframe\">\n",
       "  <thead>\n",
       "    <tr style=\"text-align: right;\">\n",
       "      <th></th>\n",
       "      <th>NU_NOTA_LC_DF</th>\n",
       "      <th>NU_NOTA_LC</th>\n",
       "    </tr>\n",
       "    <tr>\n",
       "      <th>NU_ANO</th>\n",
       "      <th></th>\n",
       "      <th></th>\n",
       "    </tr>\n",
       "  </thead>\n",
       "  <tbody>\n",
       "    <tr>\n",
       "      <td>2015</td>\n",
       "      <td>521.796129</td>\n",
       "      <td>505.454785</td>\n",
       "    </tr>\n",
       "    <tr>\n",
       "      <td>2016</td>\n",
       "      <td>538.366612</td>\n",
       "      <td>520.907494</td>\n",
       "    </tr>\n",
       "    <tr>\n",
       "      <td>2017</td>\n",
       "      <td>523.316904</td>\n",
       "      <td>510.205567</td>\n",
       "    </tr>\n",
       "    <tr>\n",
       "      <td>2018</td>\n",
       "      <td>546.612381</td>\n",
       "      <td>526.453759</td>\n",
       "    </tr>\n",
       "    <tr>\n",
       "      <td>2019</td>\n",
       "      <td>537.224342</td>\n",
       "      <td>520.517658</td>\n",
       "    </tr>\n",
       "  </tbody>\n",
       "</table>\n",
       "</div>"
      ],
      "text/plain": [
       "        NU_NOTA_LC_DF  NU_NOTA_LC\n",
       "NU_ANO                           \n",
       "2015       521.796129  505.454785\n",
       "2016       538.366612  520.907494\n",
       "2017       523.316904  510.205567\n",
       "2018       546.612381  526.453759\n",
       "2019       537.224342  520.517658"
      ]
     },
     "execution_count": 16,
     "metadata": {},
     "output_type": "execute_result"
    }
   ],
   "source": [
    "comparativo_lc"
   ]
  },
  {
   "cell_type": "code",
   "execution_count": 17,
   "metadata": {},
   "outputs": [],
   "source": [
    "anos = medias_gerais['NU_ANO']"
   ]
  },
  {
   "cell_type": "code",
   "execution_count": 18,
   "metadata": {},
   "outputs": [
    {
     "data": {
      "image/png": "[encoded data removed]",
      "text/plain": [
       "<Figure size 432x288 with 1 Axes>"
      ]
     },
     "metadata": {
      "needs_background": "light"
     },
     "output_type": "display_data"
    }
   ],
   "source": [
    "df_redacao = comparativo_redacao['NU_NOTA_REDACAO_DF']\n",
    "br_redacao = medias_gerais['NU_NOTA_REDACAO']\n",
    "\n",
    "fig, ax = plt.subplots()\n",
    "ax.plot(anos, df_redacao, label='DF')\n",
    "ax.plot(anos, br_redacao, label='BR')\n",
    "ax.legend()\n",
    "fig.suptitle('Comparativo média nota de Redação DF x BR')\n",
    "plt.xticks(anos,[str(i) for i in anos],rotation=45)\n",
    "\n",
    "plt.show()"
   ]
  },
  {
   "cell_type": "code",
   "execution_count": 19,
   "metadata": {},
   "outputs": [
    {
     "data": {
      "image/png": "[encoded data removed]",
      "text/plain": [
       "<Figure size 432x288 with 1 Axes>"
      ]
     },
     "metadata": {
      "needs_background": "light"
     },
     "output_type": "display_data"
    }
   ],
   "source": [
    "df_mt = comparativo_mt['NU_NOTA_MT_DF']\n",
    "br_mt = medias_gerais['NU_NOTA_MT']\n",
    "\n",
    "fig, ax = plt.subplots()\n",
    "ax.plot(anos, df_mt, label='DF')\n",
    "ax.plot(anos, br_mt, label='BR')\n",
    "ax.legend()\n",
    "fig.suptitle('Comparativo média nota de Matemática DF x BR')\n",
    "plt.xticks(anos,[str(i) for i in anos],rotation=45)\n",
    "\n",
    "plt.show()"
   ]
  },
  {
   "cell_type": "code",
   "execution_count": 20,
   "metadata": {},
   "outputs": [
    {
     "data": {
      "image/png": "[encoded data removed]",
      "text/plain": [
       "<Figure size 432x288 with 1 Axes>"
      ]
     },
     "metadata": {
      "needs_background": "light"
     },
     "output_type": "display_data"
    }
   ],
   "source": [
    "df_ch = comparativo_ch['NU_NOTA_CH_DF']\n",
    "br_ch = medias_gerais['NU_NOTA_CH']\n",
    "\n",
    "fig, ax = plt.subplots()\n",
    "ax.plot(anos, df_ch, label='DF')\n",
    "ax.plot(anos, br_ch, label='BR')\n",
    "ax.legend()\n",
    "fig.suptitle('Comparativo média nota de Ciências Humanas DF x BR')\n",
    "plt.xticks(anos,[str(i) for i in anos],rotation=45)\n",
    "\n",
    "plt.show()"
   ]
  },
  {
   "cell_type": "code",
   "execution_count": 21,
   "metadata": {},
   "outputs": [
    {
     "data": {
      "image/png": "[encoded data removed]",
      "text/plain": [
       "<Figure size 432x288 with 1 Axes>"
      ]
     },
     "metadata": {
      "needs_background": "light"
     },
     "output_type": "display_data"
    }
   ],
   "source": [
    "df_cn = comparativo_cn['NU_NOTA_CN_DF']\n",
    "br_cn = medias_gerais['NU_NOTA_CN']\n",
    "\n",
    "fig, ax = plt.subplots()\n",
    "ax.plot(anos, df_cn, label='DF')\n",
    "ax.plot(anos, br_cn, label='BR')\n",
    "ax.legend()\n",
    "fig.suptitle('Comparativo média nota de Ciências da Natureza DF x BR')\n",
    "plt.xticks(anos,[str(i) for i in anos],rotation=45)\n",
    "\n",
    "plt.show()"
   ]
  },
  {
   "cell_type": "code",
   "execution_count": 22,
   "metadata": {},
   "outputs": [
    {
     "data": {
      "image/png": "[encoded data removed]",
      "text/plain": [
       "<Figure size 432x288 with 1 Axes>"
      ]
     },
     "metadata": {
      "needs_background": "light"
     },
     "output_type": "display_data"
    }
   ],
   "source": [
    "df_lc = comparativo_lc['NU_NOTA_LC_DF']\n",
    "br_lc = medias_gerais['NU_NOTA_LC']\n",
    "\n",
    "fig, ax = plt.subplots()\n",
    "ax.plot(anos, df_lc, label='DF')\n",
    "ax.plot(anos, br_lc, label='BR')\n",
    "ax.legend()\n",
    "fig.suptitle('Comparativo média nota de Linguagens e Códigos DF x BR')\n",
    "plt.xticks(anos,[str(i) for i in anos],rotation=45)\n",
    "\n",
    "plt.show()"
   ]
  },
  {
   "cell_type": "code",
   "execution_count": null,
   "metadata": {},
   "outputs": [],
   "source": []
  }
 ],
 "metadata": {
  "kernelspec": {
   "display_name": "Python 3",
   "language": "python",
   "name": "python3"
  },
  "language_info": {
   "codemirror_mode": {
    "name": "ipython",
    "version": 3
   },
   "file_extension": ".py",
   "mimetype": "text/x-python",
   "name": "python",
   "nbconvert_exporter": "python",
   "pygments_lexer": "ipython3",
   "version": "3.7.4"
  }
 },
 "nbformat": 4,
 "nbformat_minor": 2
}
