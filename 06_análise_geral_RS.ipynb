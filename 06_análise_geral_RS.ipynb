{
 "cells": [
  {
   "cell_type": "code",
   "execution_count": 22,
   "metadata": {},
   "outputs": [],
   "source": [
    "import numpy as np\n",
    "import pandas as pd\n",
    "import matplotlib.pyplot as plt\n",
    "import seaborn as sns"
   ]
  },
  {
   "cell_type": "code",
   "execution_count": 2,
   "metadata": {},
   "outputs": [],
   "source": [
    "path = 'D:/000000001_ENEM/DADOS_PROCESSADOS/'"
   ]
  },
  {
   "cell_type": "code",
   "execution_count": 9,
   "metadata": {},
   "outputs": [],
   "source": [
    "enem_rs = pd.read_csv(path+'enem_RS.csv', sep = ';', encoding = 'ISO-8859-1')\n",
    "medias_gerais = pd.read_csv(path+'medias_gerais.csv', sep = ';', encoding = 'ISO-8859-1')"
   ]
  },
  {
   "cell_type": "code",
   "execution_count": 4,
   "metadata": {},
   "outputs": [
    {
     "data": {
      "text/html": [
       "<div>\n",
       "<style scoped>\n",
       "    .dataframe tbody tr th:only-of-type {\n",
       "        vertical-align: middle;\n",
       "    }\n",
       "\n",
       "    .dataframe tbody tr th {\n",
       "        vertical-align: top;\n",
       "    }\n",
       "\n",
       "    .dataframe thead th {\n",
       "        text-align: right;\n",
       "    }\n",
       "</style>\n",
       "<table border=\"1\" class=\"dataframe\">\n",
       "  <thead>\n",
       "    <tr style=\"text-align: right;\">\n",
       "      <th></th>\n",
       "      <th>NU_ANO</th>\n",
       "      <th>NU_NOTA_CH</th>\n",
       "      <th>NU_NOTA_CN</th>\n",
       "      <th>NU_NOTA_LC</th>\n",
       "      <th>NU_NOTA_MT</th>\n",
       "      <th>NU_NOTA_REDACAO</th>\n",
       "    </tr>\n",
       "  </thead>\n",
       "  <tbody>\n",
       "    <tr>\n",
       "      <td>0</td>\n",
       "      <td>2019</td>\n",
       "      <td>507.248663</td>\n",
       "      <td>477.824087</td>\n",
       "      <td>520.517658</td>\n",
       "      <td>523.124122</td>\n",
       "      <td>571.188348</td>\n",
       "    </tr>\n",
       "    <tr>\n",
       "      <td>1</td>\n",
       "      <td>2018</td>\n",
       "      <td>568.097735</td>\n",
       "      <td>493.683265</td>\n",
       "      <td>526.453759</td>\n",
       "      <td>535.405566</td>\n",
       "      <td>508.680552</td>\n",
       "    </tr>\n",
       "    <tr>\n",
       "      <td>2</td>\n",
       "      <td>2017</td>\n",
       "      <td>518.825950</td>\n",
       "      <td>510.861932</td>\n",
       "      <td>510.205567</td>\n",
       "      <td>518.759652</td>\n",
       "      <td>522.557921</td>\n",
       "    </tr>\n",
       "    <tr>\n",
       "      <td>3</td>\n",
       "      <td>2016</td>\n",
       "      <td>534.440918</td>\n",
       "      <td>477.677301</td>\n",
       "      <td>520.907494</td>\n",
       "      <td>490.085402</td>\n",
       "      <td>529.966515</td>\n",
       "    </tr>\n",
       "    <tr>\n",
       "      <td>4</td>\n",
       "      <td>2015</td>\n",
       "      <td>558.487824</td>\n",
       "      <td>478.923950</td>\n",
       "      <td>505.454785</td>\n",
       "      <td>467.931176</td>\n",
       "      <td>388.409857</td>\n",
       "    </tr>\n",
       "  </tbody>\n",
       "</table>\n",
       "</div>"
      ],
      "text/plain": [
       "   NU_ANO  NU_NOTA_CH  NU_NOTA_CN  NU_NOTA_LC  NU_NOTA_MT  NU_NOTA_REDACAO\n",
       "0    2019  507.248663  477.824087  520.517658  523.124122       571.188348\n",
       "1    2018  568.097735  493.683265  526.453759  535.405566       508.680552\n",
       "2    2017  518.825950  510.861932  510.205567  518.759652       522.557921\n",
       "3    2016  534.440918  477.677301  520.907494  490.085402       529.966515\n",
       "4    2015  558.487824  478.923950  505.454785  467.931176       388.409857"
      ]
     },
     "execution_count": 4,
     "metadata": {},
     "output_type": "execute_result"
    }
   ],
   "source": [
    "medias_gerais"
   ]
  },
  {
   "cell_type": "code",
   "execution_count": 28,
   "metadata": {},
   "outputs": [],
   "source": [
    " medias_rs = enem_rs[['NU_NOTA_REDACAO','NU_NOTA_CN', 'NU_NOTA_MT', 'NU_NOTA_LC', 'NU_NOTA_CH', 'NU_ANO']].groupby(['NU_ANO']).mean().reset_index()"
   ]
  },
  {
   "cell_type": "code",
   "execution_count": 49,
   "metadata": {},
   "outputs": [],
   "source": [
    "medias_rs.rename(columns = {'NU_NOTA_REDACAO':'NU_NOTA_REDACAO_RS','NU_NOTA_CN':'NU_NOTA_CN_RS', 'NU_NOTA_MT': 'NU_NOTA_MT_RS', 'NU_NOTA_LC': 'NU_NOTA_LC_RS', 'NU_NOTA_CH':'NU_NOTA_CH_RS'}, inplace = True)"
   ]
  },
  {
   "cell_type": "code",
   "execution_count": 61,
   "metadata": {},
   "outputs": [],
   "source": [
    "comparativo_redacao = pd.merge(medias_rs[['NU_NOTA_REDACAO_RS','NU_ANO']], medias_gerais[['NU_NOTA_REDACAO','NU_ANO']], right_on = 'NU_ANO', left_on = 'NU_ANO', how ='outer')\n",
    "comparativo_redacao.set_index('NU_ANO', inplace = True)"
   ]
  },
  {
   "cell_type": "code",
   "execution_count": 63,
   "metadata": {},
   "outputs": [
    {
     "data": {
      "text/html": [
       "<div>\n",
       "<style scoped>\n",
       "    .dataframe tbody tr th:only-of-type {\n",
       "        vertical-align: middle;\n",
       "    }\n",
       "\n",
       "    .dataframe tbody tr th {\n",
       "        vertical-align: top;\n",
       "    }\n",
       "\n",
       "    .dataframe thead th {\n",
       "        text-align: right;\n",
       "    }\n",
       "</style>\n",
       "<table border=\"1\" class=\"dataframe\">\n",
       "  <thead>\n",
       "    <tr style=\"text-align: right;\">\n",
       "      <th></th>\n",
       "      <th>NU_NOTA_REDACAO_RS</th>\n",
       "      <th>NU_NOTA_REDACAO</th>\n",
       "    </tr>\n",
       "    <tr>\n",
       "      <th>NU_ANO</th>\n",
       "      <th></th>\n",
       "      <th></th>\n",
       "    </tr>\n",
       "  </thead>\n",
       "  <tbody>\n",
       "    <tr>\n",
       "      <td>2015</td>\n",
       "      <td>480.715252</td>\n",
       "      <td>388.409857</td>\n",
       "    </tr>\n",
       "    <tr>\n",
       "      <td>2016</td>\n",
       "      <td>549.627774</td>\n",
       "      <td>529.966515</td>\n",
       "    </tr>\n",
       "    <tr>\n",
       "      <td>2017</td>\n",
       "      <td>545.010482</td>\n",
       "      <td>522.557921</td>\n",
       "    </tr>\n",
       "    <tr>\n",
       "      <td>2018</td>\n",
       "      <td>511.988668</td>\n",
       "      <td>508.680552</td>\n",
       "    </tr>\n",
       "    <tr>\n",
       "      <td>2019</td>\n",
       "      <td>598.457500</td>\n",
       "      <td>571.188348</td>\n",
       "    </tr>\n",
       "  </tbody>\n",
       "</table>\n",
       "</div>"
      ],
      "text/plain": [
       "        NU_NOTA_REDACAO_RS  NU_NOTA_REDACAO\n",
       "NU_ANO                                     \n",
       "2015            480.715252       388.409857\n",
       "2016            549.627774       529.966515\n",
       "2017            545.010482       522.557921\n",
       "2018            511.988668       508.680552\n",
       "2019            598.457500       571.188348"
      ]
     },
     "execution_count": 63,
     "metadata": {},
     "output_type": "execute_result"
    }
   ],
   "source": [
    "comparativo_redacao"
   ]
  },
  {
   "cell_type": "code",
   "execution_count": 65,
   "metadata": {},
   "outputs": [],
   "source": [
    "comparativo_mt = pd.merge(medias_rs[['NU_NOTA_MT_RS','NU_ANO']], medias_gerais[['NU_NOTA_MT','NU_ANO']], right_on = 'NU_ANO', left_on = 'NU_ANO', how ='outer')\n",
    "comparativo_mt.set_index('NU_ANO', inplace = True)"
   ]
  },
  {
   "cell_type": "code",
   "execution_count": 66,
   "metadata": {},
   "outputs": [
    {
     "data": {
      "text/html": [
       "<div>\n",
       "<style scoped>\n",
       "    .dataframe tbody tr th:only-of-type {\n",
       "        vertical-align: middle;\n",
       "    }\n",
       "\n",
       "    .dataframe tbody tr th {\n",
       "        vertical-align: top;\n",
       "    }\n",
       "\n",
       "    .dataframe thead th {\n",
       "        text-align: right;\n",
       "    }\n",
       "</style>\n",
       "<table border=\"1\" class=\"dataframe\">\n",
       "  <thead>\n",
       "    <tr style=\"text-align: right;\">\n",
       "      <th></th>\n",
       "      <th>NU_NOTA_MT_RS</th>\n",
       "      <th>NU_NOTA_MT</th>\n",
       "    </tr>\n",
       "    <tr>\n",
       "      <th>NU_ANO</th>\n",
       "      <th></th>\n",
       "      <th></th>\n",
       "    </tr>\n",
       "  </thead>\n",
       "  <tbody>\n",
       "    <tr>\n",
       "      <td>2015</td>\n",
       "      <td>481.310411</td>\n",
       "      <td>467.931176</td>\n",
       "    </tr>\n",
       "    <tr>\n",
       "      <td>2016</td>\n",
       "      <td>503.031163</td>\n",
       "      <td>490.085402</td>\n",
       "    </tr>\n",
       "    <tr>\n",
       "      <td>2017</td>\n",
       "      <td>534.615512</td>\n",
       "      <td>518.759652</td>\n",
       "    </tr>\n",
       "    <tr>\n",
       "      <td>2018</td>\n",
       "      <td>537.199915</td>\n",
       "      <td>535.405566</td>\n",
       "    </tr>\n",
       "    <tr>\n",
       "      <td>2019</td>\n",
       "      <td>546.659315</td>\n",
       "      <td>523.124122</td>\n",
       "    </tr>\n",
       "  </tbody>\n",
       "</table>\n",
       "</div>"
      ],
      "text/plain": [
       "        NU_NOTA_MT_RS  NU_NOTA_MT\n",
       "NU_ANO                           \n",
       "2015       481.310411  467.931176\n",
       "2016       503.031163  490.085402\n",
       "2017       534.615512  518.759652\n",
       "2018       537.199915  535.405566\n",
       "2019       546.659315  523.124122"
      ]
     },
     "execution_count": 66,
     "metadata": {},
     "output_type": "execute_result"
    }
   ],
   "source": [
    "comparativo_mt"
   ]
  },
  {
   "cell_type": "code",
   "execution_count": 67,
   "metadata": {},
   "outputs": [],
   "source": [
    "comparativo_ch = pd.merge(medias_rs[['NU_NOTA_CH_RS','NU_ANO']], medias_gerais[['NU_NOTA_CH','NU_ANO']], right_on = 'NU_ANO', left_on = 'NU_ANO', how ='outer')\n",
    "comparativo_ch.set_index('NU_ANO', inplace = True)"
   ]
  },
  {
   "cell_type": "code",
   "execution_count": 84,
   "metadata": {},
   "outputs": [
    {
     "data": {
      "text/html": [
       "<div>\n",
       "<style scoped>\n",
       "    .dataframe tbody tr th:only-of-type {\n",
       "        vertical-align: middle;\n",
       "    }\n",
       "\n",
       "    .dataframe tbody tr th {\n",
       "        vertical-align: top;\n",
       "    }\n",
       "\n",
       "    .dataframe thead th {\n",
       "        text-align: right;\n",
       "    }\n",
       "</style>\n",
       "<table border=\"1\" class=\"dataframe\">\n",
       "  <thead>\n",
       "    <tr style=\"text-align: right;\">\n",
       "      <th></th>\n",
       "      <th>NU_NOTA_CH_RS</th>\n",
       "      <th>NU_NOTA_CH</th>\n",
       "    </tr>\n",
       "    <tr>\n",
       "      <th>NU_ANO</th>\n",
       "      <th></th>\n",
       "      <th></th>\n",
       "    </tr>\n",
       "  </thead>\n",
       "  <tbody>\n",
       "    <tr>\n",
       "      <td>2015</td>\n",
       "      <td>563.331115</td>\n",
       "      <td>558.487824</td>\n",
       "    </tr>\n",
       "    <tr>\n",
       "      <td>2016</td>\n",
       "      <td>542.284779</td>\n",
       "      <td>534.440918</td>\n",
       "    </tr>\n",
       "    <tr>\n",
       "      <td>2017</td>\n",
       "      <td>527.264478</td>\n",
       "      <td>518.825950</td>\n",
       "    </tr>\n",
       "    <tr>\n",
       "      <td>2018</td>\n",
       "      <td>572.852805</td>\n",
       "      <td>568.097735</td>\n",
       "    </tr>\n",
       "    <tr>\n",
       "      <td>2019</td>\n",
       "      <td>524.219149</td>\n",
       "      <td>507.248663</td>\n",
       "    </tr>\n",
       "  </tbody>\n",
       "</table>\n",
       "</div>"
      ],
      "text/plain": [
       "        NU_NOTA_CH_RS  NU_NOTA_CH\n",
       "NU_ANO                           \n",
       "2015       563.331115  558.487824\n",
       "2016       542.284779  534.440918\n",
       "2017       527.264478  518.825950\n",
       "2018       572.852805  568.097735\n",
       "2019       524.219149  507.248663"
      ]
     },
     "execution_count": 84,
     "metadata": {},
     "output_type": "execute_result"
    }
   ],
   "source": [
    "comparativo_ch"
   ]
  },
  {
   "cell_type": "code",
   "execution_count": 69,
   "metadata": {},
   "outputs": [],
   "source": [
    "comparativo_cn = pd.merge(medias_rs[['NU_NOTA_CN_RS','NU_ANO']], medias_gerais[['NU_NOTA_CN','NU_ANO']], right_on = 'NU_ANO', left_on = 'NU_ANO', how ='outer')\n",
    "comparativo_cn.set_index('NU_ANO', inplace = True)"
   ]
  },
  {
   "cell_type": "code",
   "execution_count": 70,
   "metadata": {},
   "outputs": [
    {
     "data": {
      "text/html": [
       "<div>\n",
       "<style scoped>\n",
       "    .dataframe tbody tr th:only-of-type {\n",
       "        vertical-align: middle;\n",
       "    }\n",
       "\n",
       "    .dataframe tbody tr th {\n",
       "        vertical-align: top;\n",
       "    }\n",
       "\n",
       "    .dataframe thead th {\n",
       "        text-align: right;\n",
       "    }\n",
       "</style>\n",
       "<table border=\"1\" class=\"dataframe\">\n",
       "  <thead>\n",
       "    <tr style=\"text-align: right;\">\n",
       "      <th></th>\n",
       "      <th>NU_NOTA_CN_RS</th>\n",
       "      <th>NU_NOTA_CN</th>\n",
       "    </tr>\n",
       "    <tr>\n",
       "      <th>NU_ANO</th>\n",
       "      <th></th>\n",
       "      <th></th>\n",
       "    </tr>\n",
       "  </thead>\n",
       "  <tbody>\n",
       "    <tr>\n",
       "      <td>2015</td>\n",
       "      <td>480.806043</td>\n",
       "      <td>478.923950</td>\n",
       "    </tr>\n",
       "    <tr>\n",
       "      <td>2016</td>\n",
       "      <td>483.983864</td>\n",
       "      <td>477.677301</td>\n",
       "    </tr>\n",
       "    <tr>\n",
       "      <td>2017</td>\n",
       "      <td>515.577535</td>\n",
       "      <td>510.861932</td>\n",
       "    </tr>\n",
       "    <tr>\n",
       "      <td>2018</td>\n",
       "      <td>493.743418</td>\n",
       "      <td>493.683265</td>\n",
       "    </tr>\n",
       "    <tr>\n",
       "      <td>2019</td>\n",
       "      <td>484.611844</td>\n",
       "      <td>477.824087</td>\n",
       "    </tr>\n",
       "  </tbody>\n",
       "</table>\n",
       "</div>"
      ],
      "text/plain": [
       "        NU_NOTA_CN_RS  NU_NOTA_CN\n",
       "NU_ANO                           \n",
       "2015       480.806043  478.923950\n",
       "2016       483.983864  477.677301\n",
       "2017       515.577535  510.861932\n",
       "2018       493.743418  493.683265\n",
       "2019       484.611844  477.824087"
      ]
     },
     "execution_count": 70,
     "metadata": {},
     "output_type": "execute_result"
    }
   ],
   "source": [
    "comparativo_cn"
   ]
  },
  {
   "cell_type": "code",
   "execution_count": 71,
   "metadata": {},
   "outputs": [],
   "source": [
    "comparativo_lc = pd.merge(medias_rs[['NU_NOTA_LC_RS','NU_ANO']], medias_gerais[['NU_NOTA_LC','NU_ANO']], right_on = 'NU_ANO', left_on = 'NU_ANO', how ='outer')\n",
    "comparativo_lc.set_index('NU_ANO', inplace = True)"
   ]
  },
  {
   "cell_type": "code",
   "execution_count": 72,
   "metadata": {},
   "outputs": [
    {
     "data": {
      "text/html": [
       "<div>\n",
       "<style scoped>\n",
       "    .dataframe tbody tr th:only-of-type {\n",
       "        vertical-align: middle;\n",
       "    }\n",
       "\n",
       "    .dataframe tbody tr th {\n",
       "        vertical-align: top;\n",
       "    }\n",
       "\n",
       "    .dataframe thead th {\n",
       "        text-align: right;\n",
       "    }\n",
       "</style>\n",
       "<table border=\"1\" class=\"dataframe\">\n",
       "  <thead>\n",
       "    <tr style=\"text-align: right;\">\n",
       "      <th></th>\n",
       "      <th>NU_NOTA_LC_RS</th>\n",
       "      <th>NU_NOTA_LC</th>\n",
       "    </tr>\n",
       "    <tr>\n",
       "      <th>NU_ANO</th>\n",
       "      <th></th>\n",
       "      <th></th>\n",
       "    </tr>\n",
       "  </thead>\n",
       "  <tbody>\n",
       "    <tr>\n",
       "      <td>2015</td>\n",
       "      <td>515.599333</td>\n",
       "      <td>505.454785</td>\n",
       "    </tr>\n",
       "    <tr>\n",
       "      <td>2016</td>\n",
       "      <td>528.946224</td>\n",
       "      <td>520.907494</td>\n",
       "    </tr>\n",
       "    <tr>\n",
       "      <td>2017</td>\n",
       "      <td>518.787580</td>\n",
       "      <td>510.205567</td>\n",
       "    </tr>\n",
       "    <tr>\n",
       "      <td>2018</td>\n",
       "      <td>531.141506</td>\n",
       "      <td>526.453759</td>\n",
       "    </tr>\n",
       "    <tr>\n",
       "      <td>2019</td>\n",
       "      <td>533.856581</td>\n",
       "      <td>520.517658</td>\n",
       "    </tr>\n",
       "  </tbody>\n",
       "</table>\n",
       "</div>"
      ],
      "text/plain": [
       "        NU_NOTA_LC_RS  NU_NOTA_LC\n",
       "NU_ANO                           \n",
       "2015       515.599333  505.454785\n",
       "2016       528.946224  520.907494\n",
       "2017       518.787580  510.205567\n",
       "2018       531.141506  526.453759\n",
       "2019       533.856581  520.517658"
      ]
     },
     "execution_count": 72,
     "metadata": {},
     "output_type": "execute_result"
    }
   ],
   "source": [
    "comparativo_lc"
   ]
  },
  {
   "cell_type": "code",
   "execution_count": null,
   "metadata": {},
   "outputs": [],
   "source": [
    "anos = medias_gerais['NU_ANO']"
   ]
  },
  {
   "cell_type": "code",
   "execution_count": 80,
   "metadata": {},
   "outputs": [
    {
     "data": {
      "image/png": "[encoded data removed]",
      "text/plain": [
       "<Figure size 432x288 with 1 Axes>"
      ]
     },
     "metadata": {
      "needs_background": "light"
     },
     "output_type": "display_data"
    }
   ],
   "source": [
    "rs_redacao = comparativo_redacao['NU_NOTA_REDACAO_RS']\n",
    "br_redacao = medias_gerais['NU_NOTA_REDACAO']\n",
    "\n",
    "fig, ax = plt.subplots()\n",
    "ax.plot(anos, rs_redacao, label='RS')\n",
    "ax.plot(anos, br_redacao, label='BR')\n",
    "ax.legend()\n",
    "fig.suptitle('Comparativo média nota de Redação RS x BR')\n",
    "plt.xticks(anos,[str(i) for i in anos],rotation=45)\n",
    "\n",
    "plt.show()"
   ]
  },
  {
   "cell_type": "code",
   "execution_count": 87,
   "metadata": {},
   "outputs": [
    {
     "data": {
      "image/png": "[encoded data removed]",
      "text/plain": [
       "<Figure size 432x288 with 1 Axes>"
      ]
     },
     "metadata": {
      "needs_background": "light"
     },
     "output_type": "display_data"
    }
   ],
   "source": [
    "rs_mt = comparativo_mt['NU_NOTA_MT_RS']\n",
    "br_mt = medias_gerais['NU_NOTA_MT']\n",
    "\n",
    "fig, ax = plt.subplots()\n",
    "ax.plot(anos, rs_mt, label='RS')\n",
    "ax.plot(anos, br_mt, label='BR')\n",
    "ax.legend()\n",
    "fig.suptitle('Comparativo média nota de Matemática RS x BR')\n",
    "plt.xticks(anos,[str(i) for i in anos],rotation=45)\n",
    "\n",
    "plt.show()"
   ]
  },
  {
   "cell_type": "code",
   "execution_count": 94,
   "metadata": {},
   "outputs": [
    {
     "data": {
      "image/png": "[encoded data removed]",
      "text/plain": [
       "<Figure size 432x288 with 1 Axes>"
      ]
     },
     "metadata": {
      "needs_background": "light"
     },
     "output_type": "display_data"
    }
   ],
   "source": [
    "rs_ch = comparativo_ch['NU_NOTA_CH_RS']\n",
    "br_ch = medias_gerais['NU_NOTA_CH']\n",
    "\n",
    "fig, ax = plt.subplots()\n",
    "ax.plot(anos, rs_ch, label='RS')\n",
    "ax.plot(anos, br_ch, label='BR')\n",
    "ax.legend()\n",
    "fig.suptitle('Comparativo média nota de Ciências Humanas RS x BR')\n",
    "plt.xticks(anos,[str(i) for i in anos],rotation=45)\n",
    "\n",
    "plt.show()"
   ]
  },
  {
   "cell_type": "code",
   "execution_count": 93,
   "metadata": {},
   "outputs": [
    {
     "data": {
      "image/png": "[encoded data removed]",
      "text/plain": [
       "<Figure size 432x288 with 1 Axes>"
      ]
     },
     "metadata": {
      "needs_background": "light"
     },
     "output_type": "display_data"
    }
   ],
   "source": [
    "rs_cn = comparativo_cn['NU_NOTA_CN_RS']\n",
    "br_cn = medias_gerais['NU_NOTA_CN']\n",
    "\n",
    "fig, ax = plt.subplots()\n",
    "ax.plot(anos, rs_cn, label='RS')\n",
    "ax.plot(anos, br_cn, label='BR')\n",
    "ax.legend()\n",
    "fig.suptitle('Comparativo média nota de Ciências da Natureza RS x BR')\n",
    "plt.xticks(anos,[str(i) for i in anos],rotation=45)\n",
    "\n",
    "plt.show()"
   ]
  },
  {
   "cell_type": "code",
   "execution_count": 92,
   "metadata": {},
   "outputs": [
    {
     "data": {
      "image/png": "[encoded data removed]",
      "text/plain": [
       "<Figure size 432x288 with 1 Axes>"
      ]
     },
     "metadata": {
      "needs_background": "light"
     },
     "output_type": "display_data"
    }
   ],
   "source": [
    "rs_lc = comparativo_lc['NU_NOTA_LC_RS']\n",
    "br_lc = medias_gerais['NU_NOTA_LC']\n",
    "\n",
    "fig, ax = plt.subplots()\n",
    "ax.plot(anos, rs_lc, label='RS')\n",
    "ax.plot(anos, br_lc, label='BR')\n",
    "ax.legend()\n",
    "fig.suptitle('Comparativo média nota de Linguagens e Códigos RS x BR')\n",
    "plt.xticks(anos,[str(i) for i in anos],rotation=45)\n",
    "\n",
    "plt.show()"
   ]
  },
  {
   "cell_type": "code",
   "execution_count": null,
   "metadata": {},
   "outputs": [],
   "source": []
  }
 ],
 "metadata": {
  "kernelspec": {
   "display_name": "Python 3",
   "language": "python",
   "name": "python3"
  },
  "language_info": {
   "codemirror_mode": {
    "name": "ipython",
    "version": 3
   },
   "file_extension": ".py",
   "mimetype": "text/x-python",
   "name": "python",
   "nbconvert_exporter": "python",
   "pygments_lexer": "ipython3",
   "version": "3.7.4"
  }
 },
 "nbformat": 4,
 "nbformat_minor": 2
}
