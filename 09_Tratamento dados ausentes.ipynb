{
 "cells": [
  {
   "cell_type": "code",
   "execution_count": 1,
   "metadata": {},
   "outputs": [],
   "source": [
    "import pandas as pd\n",
    "import numpy as np"
   ]
  },
  {
   "cell_type": "code",
   "execution_count": 2,
   "metadata": {},
   "outputs": [],
   "source": [
    "path_enem = 'D:/000000001_ENEM/DADOS_PROCESSADOS/'\n",
    "path_escolas = 'D:/000000001_ENEM/ESCOLAS/'"
   ]
  },
  {
   "cell_type": "code",
   "execution_count": 3,
   "metadata": {},
   "outputs": [],
   "source": [
    "enem = pd.read_csv(path_enem+'enem_completo.csv', sep = ';', encoding = 'ISO-8859-1',low_memory=False)"
   ]
  },
  {
   "cell_type": "code",
   "execution_count": 4,
   "metadata": {},
   "outputs": [
    {
     "data": {
      "text/plain": [
       "CO_ESCOLA                   629662\n",
       "CO_MUNICIPIO_RESIDENCIA     629662\n",
       "CO_UF_ESC                   629662\n",
       "IN_TREINEIRO                629662\n",
       "NO_MUNICIPIO_ESC            629662\n",
       "                             ...  \n",
       "nome_concorrente            629662\n",
       "cod_concorrente             629662\n",
       "cod_entidade_concorrente    629662\n",
       "ind_concorrente              23728\n",
       "chave                       629662\n",
       "Length: 70, dtype: int64"
      ]
     },
     "execution_count": 4,
     "metadata": {},
     "output_type": "execute_result"
    }
   ],
   "source": [
    "enem.count()"
   ]
  },
  {
   "cell_type": "code",
   "execution_count": 5,
   "metadata": {},
   "outputs": [],
   "source": [
    "escolas = pd.read_csv(path_escolas+'geral_escolas.csv', sep = ';', encoding = 'ISO-8859-1',low_memory=False)"
   ]
  },
  {
   "cell_type": "code",
   "execution_count": 6,
   "metadata": {},
   "outputs": [],
   "source": [
    "enem_escolas = pd.merge (enem, escolas, left_on = 'chave', right_on = 'chave', how = 'left')"
   ]
  },
  {
   "cell_type": "code",
   "execution_count": 7,
   "metadata": {},
   "outputs": [],
   "source": [
    "enem_escolas.to_csv(path_enem + 'base_enem_completa_sem trat.csv', sep = ';', encoding = 'ISO-8859-1')"
   ]
  },
  {
   "cell_type": "code",
   "execution_count": 8,
   "metadata": {},
   "outputs": [
    {
     "data": {
      "text/plain": [
       "CO_ESCOLA      629662\n",
       "CO_ENTIDADE    629184\n",
       "dtype: int64"
      ]
     },
     "execution_count": 8,
     "metadata": {},
     "output_type": "execute_result"
    }
   ],
   "source": [
    "enem_escolas[['CO_ESCOLA', 'CO_ENTIDADE']].count()"
   ]
  },
  {
   "cell_type": "code",
   "execution_count": 9,
   "metadata": {},
   "outputs": [],
   "source": [
    "vazios = pd.DataFrame({'Tipos':enem_escolas.dtypes, 'NaN':enem_escolas.isna().sum(),'Total':enem_escolas.count()}).sort_values('NaN', ascending = False)"
   ]
  },
  {
   "cell_type": "code",
   "execution_count": 10,
   "metadata": {
    "scrolled": true
   },
   "outputs": [
    {
     "data": {
      "text/plain": [
       "array(['CO_ESCOLA', 'CO_MUNICIPIO_RESIDENCIA', 'CO_UF_ESC',\n",
       "       'IN_TREINEIRO', 'NO_MUNICIPIO_ESC', 'NU_ANO', 'NU_IDADE',\n",
       "       'NU_INSCRICAO', 'NU_NOTA_CH', 'NU_NOTA_CN', 'NU_NOTA_COMP1',\n",
       "       'NU_NOTA_COMP2', 'NU_NOTA_COMP3', 'NU_NOTA_COMP4', 'NU_NOTA_COMP5',\n",
       "       'NU_NOTA_LC', 'NU_NOTA_MT', 'NU_NOTA_REDACAO', 'Q001', 'Q002',\n",
       "       'Q003', 'Q004', 'Q005', 'Q006', 'Q007', 'Q008', 'Q009', 'Q010',\n",
       "       'Q011', 'Q012', 'Q013', 'Q014', 'Q015', 'Q016', 'Q017', 'Q018',\n",
       "       'Q019', 'Q020', 'Q021', 'Q022', 'Q023', 'Q024', 'Q025',\n",
       "       'SG_UF_ESC', 'SG_UF_RESIDENCIA', 'TP_ANO_CONCLUIU', 'TP_COR_RACA',\n",
       "       'TP_DEPENDENCIA_ADM_ESC', 'TP_ENSINO', 'TP_ESCOLA',\n",
       "       'TP_ESTADO_CIVIL', 'TP_LINGUA', 'TP_LOCALIZACAO_ESC',\n",
       "       'TP_NACIONALIDADE', 'TP_PRESENCA_CH', 'TP_PRESENCA_CN',\n",
       "       'TP_PRESENCA_LC', 'TP_PRESENCA_MT', 'TP_SEXO', 'TP_SIT_FUNC_ESC',\n",
       "       'TP_STATUS_REDACAO', 'TP_ST_CONCLUSAO', 'nome_entidade_rede',\n",
       "       'cod_entidade_rede', 'ind_rede', 'nome_concorrente',\n",
       "       'cod_concorrente', 'cod_entidade_concorrente', 'ind_concorrente',\n",
       "       'chave', 'Unnamed: 0', 'NU_ANO_CENSO', 'CO_ENTIDADE',\n",
       "       'NO_ENTIDADE', 'CO_MUNICIPIO', 'IN_DESKTOP_ALUNO',\n",
       "       'QT_DESKTOP_ALUNO', 'IN_COMP_PORTATIL_ALUNO',\n",
       "       'QT_COMP_PORTATIL_ALUNO', 'IN_TABLET_ALUNO', 'QT_TABLET_ALUNO',\n",
       "       'IN_INTERNET', 'IN_INTERNET_ALUNOS', 'IN_INTERNET_ADMINISTRATIVO',\n",
       "       'IN_INTERNET_APRENDIZAGEM', 'IN_INTERNET_COMUNIDADE',\n",
       "       'IN_ACESSO_INTERNET_COMPUTADOR', 'IN_ACES_INTERNET_DISP_PESSOAIS',\n",
       "       'TP_REDE_LOCAL', 'IN_BANDA_LARGA', 'QT_PROF_PSICOLOGO',\n",
       "       'QT_PROF_PEDAGOGIA', 'QT_PROF_COORDENADOR',\n",
       "       'IN_MATERIAL_PED_MULTIMIDIA', 'IN_RESERVA_RENDA', 'IN_RESERVA_PPI',\n",
       "       'IN_RESERVA_PUBLICA', 'IN_EXAME_SELECAO', 'IN_BIBLIOTECA',\n",
       "       'IN_BIBLIOTECA_SALA_LEITURA', 'IN_LABORATORIO_CIENCIAS',\n",
       "       'IN_LABORATORIO_INFORMATICA', 'IN_EQUIP_LOUSA_DIGITAL',\n",
       "       'QT_EQUIP_LOUSA_DIGITAL', 'IN_EQUIP_MULTIMIDIA',\n",
       "       'QT_EQUIP_MULTIMIDIA'], dtype=object)"
      ]
     },
     "execution_count": 10,
     "metadata": {},
     "output_type": "execute_result"
    }
   ],
   "source": [
    "enem_escolas.columns.values"
   ]
  },
  {
   "cell_type": "code",
   "execution_count": 11,
   "metadata": {},
   "outputs": [
    {
     "data": {
      "text/plain": [
       "array([ 0., nan,  1.,  2.,  3.,  4.])"
      ]
     },
     "execution_count": 11,
     "metadata": {},
     "output_type": "execute_result"
    }
   ],
   "source": [
    "enem_escolas['TP_ESTADO_CIVIL'].unique()"
   ]
  },
  {
   "cell_type": "code",
   "execution_count": 12,
   "metadata": {},
   "outputs": [],
   "source": [
    "a = 'TP_ESTADO_CIVIL'\n",
    "enem_escolas[a].fillna('Não informado', inplace = True)\n",
    "enem_escolas[a].replace(to_replace = 0, value = 'Não informado', inplace = True)\n",
    "enem_escolas[a].replace(to_replace = 1, value = 'Solteiro', inplace = True)\n",
    "enem_escolas[a].replace(to_replace = 2, value = 'Casado/Tem companheiro(a)', inplace = True)\n",
    "enem_escolas[a].replace(to_replace = 3, value = 'Divorciado(a)/Desquitado(a)/Separado(a)', inplace = True)\n",
    "enem_escolas[a].replace(to_replace = 4, value = 'Viúvo(a)', inplace = True)"
   ]
  },
  {
   "cell_type": "code",
   "execution_count": 13,
   "metadata": {},
   "outputs": [
    {
     "data": {
      "text/plain": [
       "array(['Não informado', 'Solteiro', 'Casado/Tem companheiro(a)',\n",
       "       'Divorciado(a)/Desquitado(a)/Separado(a)', 'Viúvo(a)'],\n",
       "      dtype=object)"
      ]
     },
     "execution_count": 13,
     "metadata": {},
     "output_type": "execute_result"
    }
   ],
   "source": [
    "enem_escolas['TP_ESTADO_CIVIL'].unique()"
   ]
  },
  {
   "cell_type": "code",
   "execution_count": 14,
   "metadata": {},
   "outputs": [
    {
     "data": {
      "text/plain": [
       "array([1, 3, 2, 0, 4, 6, 5], dtype=int64)"
      ]
     },
     "execution_count": 14,
     "metadata": {},
     "output_type": "execute_result"
    }
   ],
   "source": [
    "enem_escolas['TP_COR_RACA'].unique()"
   ]
  },
  {
   "cell_type": "code",
   "execution_count": 15,
   "metadata": {},
   "outputs": [],
   "source": [
    "a = 'TP_COR_RACA'\n",
    "enem_escolas[a].fillna('ND', inplace = True)\n",
    "enem_escolas[a].replace(to_replace = 0, value = 'ND', inplace = True) ## Não declarado\n",
    "enem_escolas[a].replace(to_replace = 1, value = 'Branca', inplace = True)\n",
    "enem_escolas[a].replace(to_replace = 2, value = 'Preta', inplace = True)\n",
    "enem_escolas[a].replace(to_replace = 3, value = 'Parda', inplace = True)\n",
    "enem_escolas[a].replace(to_replace = 4, value = 'Amarela', inplace = True)\n",
    "enem_escolas[a].replace(to_replace = 5, value = 'Indígena', inplace = True)\n",
    "enem_escolas[a].replace(to_replace = 6, value = 'ND', inplace = True) ## Não dispõe da informação"
   ]
  },
  {
   "cell_type": "code",
   "execution_count": 16,
   "metadata": {},
   "outputs": [
    {
     "data": {
      "text/plain": [
       "array(['Branca', 'Parda', 'Preta', 'ND', 'Amarela', 'Indígena'],\n",
       "      dtype=object)"
      ]
     },
     "execution_count": 16,
     "metadata": {},
     "output_type": "execute_result"
    }
   ],
   "source": [
    "enem_escolas['TP_COR_RACA'].unique()"
   ]
  },
  {
   "cell_type": "code",
   "execution_count": 17,
   "metadata": {},
   "outputs": [
    {
     "data": {
      "text/plain": [
       "array([1, 2, 4, 0, 3], dtype=int64)"
      ]
     },
     "execution_count": 17,
     "metadata": {},
     "output_type": "execute_result"
    }
   ],
   "source": [
    "enem_escolas['TP_NACIONALIDADE'].unique()"
   ]
  },
  {
   "cell_type": "code",
   "execution_count": 18,
   "metadata": {},
   "outputs": [],
   "source": [
    "a = 'TP_NACIONALIDADE'\n",
    "enem_escolas[a].fillna('Não informado', inplace = True)\n",
    "enem_escolas[a].replace(to_replace = 0, value = 'Não informado', inplace = True)\n",
    "enem_escolas[a].replace(to_replace = 1, value = 'Brasileiro(a)', inplace = True)\n",
    "enem_escolas[a].replace(to_replace = 2, value = 'Brasileiro(a) Naturalizado(a)', inplace = True)\n",
    "enem_escolas[a].replace(to_replace = 3, value = 'Estrangeiro(a)', inplace = True)\n",
    "enem_escolas[a].replace(to_replace = 4, value = 'Brasileiro(a) Nato(a), nascido(a) no exterior', inplace = True)\n"
   ]
  },
  {
   "cell_type": "code",
   "execution_count": 19,
   "metadata": {},
   "outputs": [
    {
     "data": {
      "text/plain": [
       "array(['Brasileiro(a)', 'Brasileiro(a) Naturalizado(a)',\n",
       "       'Brasileiro(a) Nato(a), nascido(a) no exterior', 'Não informado',\n",
       "       'Estrangeiro(a)'], dtype=object)"
      ]
     },
     "execution_count": 19,
     "metadata": {},
     "output_type": "execute_result"
    }
   ],
   "source": [
    "enem_escolas['TP_NACIONALIDADE'].unique()"
   ]
  },
  {
   "cell_type": "code",
   "execution_count": 20,
   "metadata": {
    "scrolled": true
   },
   "outputs": [
    {
     "data": {
      "text/plain": [
       "array([2, 4, 3], dtype=int64)"
      ]
     },
     "execution_count": 20,
     "metadata": {},
     "output_type": "execute_result"
    }
   ],
   "source": [
    "enem_escolas['TP_ST_CONCLUSAO'].unique()"
   ]
  },
  {
   "cell_type": "code",
   "execution_count": 21,
   "metadata": {},
   "outputs": [],
   "source": [
    "a = 'TP_ST_CONCLUSAO'\n",
    "enem_escolas[a].fillna('Não informado', inplace = True)\n",
    "enem_escolas[a].replace(to_replace = 1, value = 'Já concluí o Ensino Médio', inplace = True)\n",
    "enem_escolas[a].replace(to_replace = 2, value = 'Estou cursando e concluirei o Ensino Médio no ano corrente', inplace = True)\n",
    "enem_escolas[a].replace(to_replace = 3, value = 'Estou cursando e concluirei o Ensino Médio após o ano corrente', inplace = True)\n",
    "enem_escolas[a].replace(to_replace = 4, value = 'Não concluí e não estou cursando o Ensino Médio', inplace = True)"
   ]
  },
  {
   "cell_type": "code",
   "execution_count": 22,
   "metadata": {},
   "outputs": [
    {
     "data": {
      "text/plain": [
       "array(['Estou cursando e concluirei o Ensino Médio no ano corrente',\n",
       "       'Não concluí e não estou cursando o Ensino Médio',\n",
       "       'Estou cursando e concluirei o Ensino Médio após o ano corrente'],\n",
       "      dtype=object)"
      ]
     },
     "execution_count": 22,
     "metadata": {},
     "output_type": "execute_result"
    }
   ],
   "source": [
    "enem_escolas['TP_ST_CONCLUSAO'].unique()"
   ]
  },
  {
   "cell_type": "code",
   "execution_count": 23,
   "metadata": {
    "scrolled": true
   },
   "outputs": [
    {
     "data": {
      "text/plain": [
       "array([2, 3, 1, 4], dtype=int64)"
      ]
     },
     "execution_count": 23,
     "metadata": {},
     "output_type": "execute_result"
    }
   ],
   "source": [
    "enem_escolas['TP_ESCOLA'].unique()"
   ]
  },
  {
   "cell_type": "code",
   "execution_count": 24,
   "metadata": {},
   "outputs": [],
   "source": [
    "a = 'TP_ESCOLA'\n",
    "enem_escolas[a].fillna('Não Respondeu', inplace = True)\n",
    "enem_escolas[a].replace(to_replace = 1, value = 'Não Respondeu', inplace = True)\n",
    "enem_escolas[a].replace(to_replace = 2, value = 'Pública', inplace = True)\n",
    "enem_escolas[a].replace(to_replace = 3, value = 'Privada', inplace = True)\n",
    "enem_escolas[a].replace(to_replace = 4, value = 'Exterior', inplace = True)"
   ]
  },
  {
   "cell_type": "code",
   "execution_count": 25,
   "metadata": {},
   "outputs": [
    {
     "data": {
      "text/plain": [
       "array(['Pública', 'Privada', 'Não Respondeu', 'Exterior'], dtype=object)"
      ]
     },
     "execution_count": 25,
     "metadata": {},
     "output_type": "execute_result"
    }
   ],
   "source": [
    "enem_escolas['TP_ESCOLA'].unique()"
   ]
  },
  {
   "cell_type": "code",
   "execution_count": 26,
   "metadata": {
    "scrolled": true
   },
   "outputs": [
    {
     "data": {
      "text/plain": [
       "array([ 1.,  3.,  2., nan])"
      ]
     },
     "execution_count": 26,
     "metadata": {},
     "output_type": "execute_result"
    }
   ],
   "source": [
    "enem_escolas['TP_ENSINO'].unique()"
   ]
  },
  {
   "cell_type": "code",
   "execution_count": 27,
   "metadata": {},
   "outputs": [],
   "source": [
    "a = 'TP_ENSINO'\n",
    "enem_escolas[a].fillna('Não Respondeu', inplace = True)\n",
    "enem_escolas[a].replace(to_replace = 1, value = 'Ensino Regular', inplace = True)\n",
    "enem_escolas[a].replace(to_replace = 2, value = 'Educação Especial - Modalidade Substitutiva', inplace = True)\n",
    "enem_escolas[a].replace(to_replace = 3, value = 'Educação de Jovens e Adultos', inplace = True)"
   ]
  },
  {
   "cell_type": "code",
   "execution_count": 28,
   "metadata": {},
   "outputs": [
    {
     "data": {
      "text/plain": [
       "array(['Ensino Regular', 'Educação de Jovens e Adultos',\n",
       "       'Educação Especial - Modalidade Substitutiva', 'Não Respondeu'],\n",
       "      dtype=object)"
      ]
     },
     "execution_count": 28,
     "metadata": {},
     "output_type": "execute_result"
    }
   ],
   "source": [
    "enem_escolas['TP_ENSINO'].unique()"
   ]
  },
  {
   "cell_type": "code",
   "execution_count": 29,
   "metadata": {},
   "outputs": [
    {
     "data": {
      "text/plain": [
       "array([0, 1], dtype=int64)"
      ]
     },
     "execution_count": 29,
     "metadata": {},
     "output_type": "execute_result"
    }
   ],
   "source": [
    "enem_escolas['IN_TREINEIRO'].unique()"
   ]
  },
  {
   "cell_type": "code",
   "execution_count": 30,
   "metadata": {},
   "outputs": [],
   "source": [
    "a = 'IN_TREINEIRO'\n",
    "enem_escolas[a].fillna('Não Respondeu', inplace = True)\n",
    "enem_escolas[a].replace(to_replace = 1, value = 'Sim', inplace = True)\n",
    "enem_escolas[a].replace(to_replace = 0, value = 'Não', inplace = True)"
   ]
  },
  {
   "cell_type": "code",
   "execution_count": 31,
   "metadata": {},
   "outputs": [
    {
     "data": {
      "text/plain": [
       "array(['Não', 'Sim'], dtype=object)"
      ]
     },
     "execution_count": 31,
     "metadata": {},
     "output_type": "execute_result"
    }
   ],
   "source": [
    "enem_escolas['IN_TREINEIRO'].unique()"
   ]
  },
  {
   "cell_type": "code",
   "execution_count": 32,
   "metadata": {},
   "outputs": [
    {
     "data": {
      "text/plain": [
       "array([2., 4., 3., 1.])"
      ]
     },
     "execution_count": 32,
     "metadata": {},
     "output_type": "execute_result"
    }
   ],
   "source": [
    "enem_escolas['TP_DEPENDENCIA_ADM_ESC'].unique()"
   ]
  },
  {
   "cell_type": "code",
   "execution_count": 33,
   "metadata": {},
   "outputs": [],
   "source": [
    "a = 'TP_DEPENDENCIA_ADM_ESC'\n",
    "enem_escolas[a].fillna('Não Respondeu', inplace = True)\n",
    "enem_escolas[a].replace(to_replace = 1, value = 'Federal', inplace = True)\n",
    "enem_escolas[a].replace(to_replace = 2, value = 'Estadual', inplace = True)\n",
    "enem_escolas[a].replace(to_replace = 3, value = 'Municipal', inplace = True)\n",
    "enem_escolas[a].replace(to_replace = 4, value = 'Privada', inplace = True)\n"
   ]
  },
  {
   "cell_type": "code",
   "execution_count": 34,
   "metadata": {},
   "outputs": [
    {
     "data": {
      "text/plain": [
       "array(['Estadual', 'Privada', 'Municipal', 'Federal'], dtype=object)"
      ]
     },
     "execution_count": 34,
     "metadata": {},
     "output_type": "execute_result"
    }
   ],
   "source": [
    "enem_escolas['TP_DEPENDENCIA_ADM_ESC'].unique()"
   ]
  },
  {
   "cell_type": "code",
   "execution_count": 35,
   "metadata": {},
   "outputs": [
    {
     "data": {
      "text/plain": [
       "array([1., 2.])"
      ]
     },
     "execution_count": 35,
     "metadata": {},
     "output_type": "execute_result"
    }
   ],
   "source": [
    "enem_escolas['TP_LOCALIZACAO_ESC'].unique()"
   ]
  },
  {
   "cell_type": "code",
   "execution_count": 36,
   "metadata": {},
   "outputs": [],
   "source": [
    "a = 'TP_LOCALIZACAO_ESC'\n",
    "enem_escolas[a].fillna('Não Respondeu', inplace = True)\n",
    "enem_escolas[a].replace(to_replace = 1, value = 'Urbana', inplace = True)\n",
    "enem_escolas[a].replace(to_replace = 2, value = 'Rural', inplace = True)"
   ]
  },
  {
   "cell_type": "code",
   "execution_count": 37,
   "metadata": {},
   "outputs": [
    {
     "data": {
      "text/plain": [
       "array(['Urbana', 'Rural'], dtype=object)"
      ]
     },
     "execution_count": 37,
     "metadata": {},
     "output_type": "execute_result"
    }
   ],
   "source": [
    "enem_escolas['TP_LOCALIZACAO_ESC'].unique()"
   ]
  },
  {
   "cell_type": "code",
   "execution_count": 38,
   "metadata": {},
   "outputs": [
    {
     "data": {
      "text/plain": [
       "array([ 1.,  2., nan,  3.,  4.])"
      ]
     },
     "execution_count": 38,
     "metadata": {},
     "output_type": "execute_result"
    }
   ],
   "source": [
    "enem_escolas['TP_SIT_FUNC_ESC'].unique()"
   ]
  },
  {
   "cell_type": "code",
   "execution_count": 39,
   "metadata": {},
   "outputs": [],
   "source": [
    "a = 'TP_SIT_FUNC_ESC'\n",
    "enem_escolas[a].fillna('Não Informado', inplace = True)\n",
    "enem_escolas[a].replace(to_replace = 1, value = 'Em atividade', inplace = True)\n",
    "enem_escolas[a].replace(to_replace = 2, value = 'Paralisada', inplace = True)\n",
    "enem_escolas[a].replace(to_replace = 3, value = 'Extinta', inplace = True)\n",
    "enem_escolas[a].replace(to_replace = 4, value = 'Escola extinta em anos anteriores', inplace = True)"
   ]
  },
  {
   "cell_type": "code",
   "execution_count": 40,
   "metadata": {},
   "outputs": [
    {
     "data": {
      "text/plain": [
       "array(['Em atividade', 'Paralisada', 'Não Informado', 'Extinta',\n",
       "       'Escola extinta em anos anteriores'], dtype=object)"
      ]
     },
     "execution_count": 40,
     "metadata": {},
     "output_type": "execute_result"
    }
   ],
   "source": [
    "enem_escolas['TP_SIT_FUNC_ESC'].unique()"
   ]
  },
  {
   "cell_type": "code",
   "execution_count": 41,
   "metadata": {},
   "outputs": [
    {
     "data": {
      "text/plain": [
       "array([ 1.,  0.,  2., nan])"
      ]
     },
     "execution_count": 41,
     "metadata": {},
     "output_type": "execute_result"
    }
   ],
   "source": [
    "enem_escolas['TP_PRESENCA_CN'].unique()"
   ]
  },
  {
   "cell_type": "code",
   "execution_count": 42,
   "metadata": {},
   "outputs": [
    {
     "data": {
      "text/plain": [
       "array([ 1.,  0.,  2., nan])"
      ]
     },
     "execution_count": 42,
     "metadata": {},
     "output_type": "execute_result"
    }
   ],
   "source": [
    "enem_escolas['TP_PRESENCA_CH'].unique()"
   ]
  },
  {
   "cell_type": "code",
   "execution_count": 43,
   "metadata": {},
   "outputs": [
    {
     "data": {
      "text/plain": [
       "array([ 1.,  0.,  2., nan])"
      ]
     },
     "execution_count": 43,
     "metadata": {},
     "output_type": "execute_result"
    }
   ],
   "source": [
    "enem_escolas['TP_PRESENCA_LC'].unique()"
   ]
  },
  {
   "cell_type": "code",
   "execution_count": 44,
   "metadata": {},
   "outputs": [
    {
     "data": {
      "text/plain": [
       "array([ 1.,  0.,  2., nan])"
      ]
     },
     "execution_count": 44,
     "metadata": {},
     "output_type": "execute_result"
    }
   ],
   "source": [
    "enem_escolas['TP_PRESENCA_MT'].unique()"
   ]
  },
  {
   "cell_type": "code",
   "execution_count": 45,
   "metadata": {},
   "outputs": [],
   "source": [
    "colunas = ['TP_PRESENCA_CN', 'TP_PRESENCA_CH', 'TP_PRESENCA_LC','TP_PRESENCA_MT']\n",
    "for c in colunas:\n",
    "    enem_escolas[c].fillna('Não informado', inplace = True)\n",
    "    enem_escolas[c].replace(to_replace = 0, value = 'Faltou à prova', inplace = True)\n",
    "    enem_escolas[c].replace(to_replace = 1, value = 'Presente na prova', inplace = True)\n",
    "    enem_escolas[c].replace(to_replace = 2, value = 'Eliminado na prova', inplace = True)"
   ]
  },
  {
   "cell_type": "code",
   "execution_count": 46,
   "metadata": {},
   "outputs": [
    {
     "data": {
      "text/plain": [
       "array(['Presente na prova', 'Faltou à prova', 'Eliminado na prova',\n",
       "       'Não informado'], dtype=object)"
      ]
     },
     "execution_count": 46,
     "metadata": {},
     "output_type": "execute_result"
    }
   ],
   "source": [
    "enem_escolas['TP_PRESENCA_CN'].unique()"
   ]
  },
  {
   "cell_type": "code",
   "execution_count": 47,
   "metadata": {},
   "outputs": [
    {
     "data": {
      "text/plain": [
       "array([1, 0], dtype=int64)"
      ]
     },
     "execution_count": 47,
     "metadata": {},
     "output_type": "execute_result"
    }
   ],
   "source": [
    "enem_escolas['TP_LINGUA'].unique()"
   ]
  },
  {
   "cell_type": "code",
   "execution_count": 48,
   "metadata": {},
   "outputs": [],
   "source": [
    "a = 'TP_LINGUA'\n",
    "enem_escolas[a].fillna('Não Informado', inplace = True)\n",
    "enem_escolas[a].replace(to_replace = 0, value = 'Inglês', inplace = True)\n",
    "enem_escolas[a].replace(to_replace = 1, value = 'Espanhol', inplace = True)"
   ]
  },
  {
   "cell_type": "code",
   "execution_count": 49,
   "metadata": {},
   "outputs": [
    {
     "data": {
      "text/plain": [
       "array(['Espanhol', 'Inglês'], dtype=object)"
      ]
     },
     "execution_count": 49,
     "metadata": {},
     "output_type": "execute_result"
    }
   ],
   "source": [
    "enem_escolas['TP_LINGUA'].unique()"
   ]
  },
  {
   "cell_type": "code",
   "execution_count": 50,
   "metadata": {},
   "outputs": [
    {
     "data": {
      "text/plain": [
       "array([ 1.,  4.,  6.,  5.,  7., 98.,  3.,  8.,  2.,  9., nan])"
      ]
     },
     "execution_count": 50,
     "metadata": {},
     "output_type": "execute_result"
    }
   ],
   "source": [
    "enem_escolas['TP_STATUS_REDACAO'].unique()"
   ]
  },
  {
   "cell_type": "code",
   "execution_count": 51,
   "metadata": {},
   "outputs": [],
   "source": [
    "a = 'TP_STATUS_REDACAO'\n",
    "enem_escolas[a].fillna('Não declarado', inplace = True)\n",
    "enem_escolas[a].replace(to_replace = 1, value = 'Sem problemas', inplace = True)\n",
    "enem_escolas[a].replace(to_replace = 2, value = 'Anulada', inplace = True)\n",
    "enem_escolas[a].replace(to_replace = 3, value = 'Cópia texto motivador', inplace = True)\n",
    "enem_escolas[a].replace(to_replace = 4, value = 'Em branco', inplace = True)\n",
    "enem_escolas[a].replace(to_replace = 5, value = 'Fere Direitos Humanos', inplace = True)\n",
    "enem_escolas[a].replace(to_replace = 6, value = 'Fuga ao tema', inplace = True)\n",
    "enem_escolas[a].replace(to_replace = 7, value = 'Não atendimento ao tipo', inplace = True)\n",
    "enem_escolas[a].replace(to_replace = 8, value = 'Texto insuficiente', inplace = True)\n",
    "enem_escolas[a].replace(to_replace = 9, value = 'Parte desconectada', inplace = True)\n",
    "enem_escolas[a].replace(to_replace = 98, value = 'Não atendimento ao item 2.2.5 do edital do exame.', inplace = True)"
   ]
  },
  {
   "cell_type": "code",
   "execution_count": 52,
   "metadata": {},
   "outputs": [
    {
     "data": {
      "text/plain": [
       "array(['Sem problemas', 'Em branco', 'Fuga ao tema',\n",
       "       'Fere Direitos Humanos', 'Não atendimento ao tipo',\n",
       "       'Não atendimento ao item 2.2.5 do edital do exame.',\n",
       "       'Cópia texto motivador', 'Texto insuficiente', 'Anulada',\n",
       "       'Parte desconectada', 'Não declarado'], dtype=object)"
      ]
     },
     "execution_count": 52,
     "metadata": {},
     "output_type": "execute_result"
    }
   ],
   "source": [
    "enem_escolas['TP_STATUS_REDACAO'].unique()"
   ]
  },
  {
   "cell_type": "code",
   "execution_count": 53,
   "metadata": {},
   "outputs": [],
   "source": [
    "## Q001 - Até que série seu pai, ou o homem responsável por você, estudou?\n",
    "## Q002 - Até que série sua mãe, ou a mulher responsável por você, estudou?\n",
    "## Q003 - A partir da apresentação de algumas ocupações divididas em grupos ordenados, indique o grupo que contempla a ocupação mais próxima da ocupação do seu pai ou do homem responsável por você. (Se ele não estiver trabalhando, escolha uma ocupação pensando no último trabalho dele).\n",
    "## Q004 - A partir da apresentação de algumas ocupações divididas em grupos ordenados, indique o grupo que contempla a ocupação mais próxima da ocupação da sua mãe ou da mulher responsável por você. (Se ela não estiver trabalhando, escolha uma ocupação pensando no último trabalho dela).\n",
    "## Q005 - Incluindo você, quantas pessoas moram atualmente em sua residência?\n",
    "## Q006 - Qual é a renda mensal de sua família? (Some a sua renda com a dos seus familiares.)\n",
    "## Q007 - Em sua residência trabalha empregado(a) doméstico(a)?\n",
    "## Q008 - Na sua residência tem banheiro?\n",
    "## Q009 - Na sua residência tem quartos para dormir?\n",
    "## Q010 - Na sua residência tem carro?\n",
    "## Q011 - Na sua residência tem motocicleta?\n",
    "## Q012 - Na sua residência tem geladeira?\n",
    "## Q013 - Na sua residência tem freezer (independente ou segunda porta da geladeira)?\n",
    "## Q014 - Na sua residência tem máquina de lavar roupa? (o tanquinho NÃO deve ser considerado)\n",
    "## Q015 - Na sua residência tem máquina de secar roupa (independente ou em conjunto com a máquina de lavar roupa)?\n",
    "## Q016 - Na sua residência tem forno micro-ondas?\n",
    "## Q017 - Na sua residência tem máquina de lavar louça?\n",
    "## Q018 - Na sua residência tem aspirador de pó?\n",
    "## Q019 - Na sua residência tem televisão em cores?\n",
    "## Q020 - Na sua residência tem aparelho de DVD?\n",
    "## Q021 - Na sua residência tem TV por assinatura?\n",
    "## Q022 - Na sua residência tem telefone celular?\n",
    "## Q023 - Na sua residência tem telefone fixo?\n",
    "## Q024 - Na sua residência tem computador?\n",
    "## Q025 - Na sua residência tem acesso à Internet?\n"
   ]
  },
  {
   "cell_type": "code",
   "execution_count": 54,
   "metadata": {},
   "outputs": [
    {
     "data": {
      "text/plain": [
       "array(['C', 'D', 'B', 'F', 'E', 'H', 'G', 'A', nan], dtype=object)"
      ]
     },
     "execution_count": 54,
     "metadata": {},
     "output_type": "execute_result"
    }
   ],
   "source": [
    "enem_escolas['Q001'].unique()"
   ]
  },
  {
   "cell_type": "code",
   "execution_count": 55,
   "metadata": {},
   "outputs": [
    {
     "data": {
      "text/plain": [
       "array(['B', 'D', 'E', 'F', 'C', 'G', 'H', nan, 'A'], dtype=object)"
      ]
     },
     "execution_count": 55,
     "metadata": {},
     "output_type": "execute_result"
    }
   ],
   "source": [
    "enem_escolas['Q002'].unique()"
   ]
  },
  {
   "cell_type": "code",
   "execution_count": 56,
   "metadata": {},
   "outputs": [],
   "source": [
    "q = ['Q001','Q002']\n",
    "for a in q:\n",
    "    enem_escolas[a].fillna('Não informado', inplace = True)\n",
    "    enem_escolas[a].replace(to_replace = 'A', value = 'Nunca estudou', inplace = True)\n",
    "    enem_escolas[a].replace(to_replace = 'B', value = 'Não completou a 4ª série/5º ano do Ensino Fundamental', inplace = True)\n",
    "    enem_escolas[a].replace(to_replace = 'C', value = 'Completou a 4ª série/5º ano, mas não completou a 8ª série/9º ano do Ensino Fundamental', inplace = True)\n",
    "    enem_escolas[a].replace(to_replace = 'D', value = 'Completou a 8ª série/9º ano do Ensino Fundamental, mas não completou o Ensino Médio', inplace = True)\n",
    "    enem_escolas[a].replace(to_replace = 'E', value = 'Completou o Ensino Médio, mas não completou a Faculdade', inplace = True)\n",
    "    enem_escolas[a].replace(to_replace = 'F', value = 'Completou a Faculdade, mas não completou a Pós-graduação', inplace = True)\n",
    "    enem_escolas[a].replace(to_replace = 'G', value = 'Completou a Pós-graduação', inplace = True)\n",
    "    enem_escolas[a].replace(to_replace = 'H', value = 'Não sei.', inplace = True)"
   ]
  },
  {
   "cell_type": "code",
   "execution_count": 57,
   "metadata": {},
   "outputs": [
    {
     "data": {
      "text/plain": [
       "array(['Completou a 4ª série/5º ano, mas não completou a 8ª série/9º ano do Ensino Fundamental',\n",
       "       'Completou a 8ª série/9º ano do Ensino Fundamental, mas não completou o Ensino Médio',\n",
       "       'Não completou a 4ª série/5º ano do Ensino Fundamental',\n",
       "       'Completou a Faculdade, mas não completou a Pós-graduação',\n",
       "       'Completou o Ensino Médio, mas não completou a Faculdade',\n",
       "       'Não sei.', 'Completou a Pós-graduação', 'Nunca estudou',\n",
       "       'Não informado'], dtype=object)"
      ]
     },
     "execution_count": 57,
     "metadata": {},
     "output_type": "execute_result"
    }
   ],
   "source": [
    "enem_escolas['Q001'].unique()"
   ]
  },
  {
   "cell_type": "code",
   "execution_count": 58,
   "metadata": {},
   "outputs": [
    {
     "data": {
      "text/plain": [
       "array(['Não completou a 4ª série/5º ano do Ensino Fundamental',\n",
       "       'Completou a 8ª série/9º ano do Ensino Fundamental, mas não completou o Ensino Médio',\n",
       "       'Completou o Ensino Médio, mas não completou a Faculdade',\n",
       "       'Completou a Faculdade, mas não completou a Pós-graduação',\n",
       "       'Completou a 4ª série/5º ano, mas não completou a 8ª série/9º ano do Ensino Fundamental',\n",
       "       'Completou a Pós-graduação', 'Não sei.', 'Não informado',\n",
       "       'Nunca estudou'], dtype=object)"
      ]
     },
     "execution_count": 58,
     "metadata": {},
     "output_type": "execute_result"
    }
   ],
   "source": [
    "enem_escolas['Q002'].unique()"
   ]
  },
  {
   "cell_type": "code",
   "execution_count": 59,
   "metadata": {},
   "outputs": [],
   "source": [
    "##['Q003','Q004']\n",
    "## Grupo 1: Lavradora, agricultora sem empregados, bóia fria, criadora de animais (gado, porcos, galinhas, ovelhas, cavalos etc.), apicultora, pescadora, lenhadora, seringueira, extrativista.\n",
    "## Grupo 2: Diarista, empregada doméstica, cuidadora de idosos, babá, cozinheira (em casas particulares), motorista particular, jardineira, faxineira de empresas e prédios, vigilante, porteira, carteira, office-boy, vendedora, caixa, atendente de loja, auxiliar administrativa, recepcionista, servente de pedreiro, repositora de mercadoria.\n",
    "## Grupo 3: Padeira, cozinheira industrial ou em restaurantes, sapateira, costureira, joalheira, torneira mecânica, operadora de máquinas, soldadora, operária de fábrica, trabalhadora da mineração, pedreira, pintora, eletricista, encanadora, motorista, caminhoneira, taxista.\n",
    "## Grupo 4: Professora (de ensino fundamental ou médio, idioma, música, artes etc.), técnica (de enfermagem, contabilidade, eletrônica etc.), policial, militar de baixa patente (soldado, cabo, sargento), corretora de imóveis, supervisora, gerente, mestre de obras, pastora, microempresária (proprietária de empresa com menos de 10 empregados), pequena comerciante, pequena proprietária de terras, trabalhadora autônoma ou por conta própria.\n",
    "## Grupo 5: Médica, engenheira, dentista, psicóloga, economista, advogada, juíza, promotora, defensora, delegada, tenente, capitã, coronel, professora universitária, diretora em empresas públicas ou privadas, política, proprietária de empresas com mais de 10 empregados.\n",
    "## Não sei.\n"
   ]
  },
  {
   "cell_type": "code",
   "execution_count": 60,
   "metadata": {},
   "outputs": [
    {
     "data": {
      "text/plain": [
       "array(['C', 'D', 'E', 'B', 'A', 'F', nan], dtype=object)"
      ]
     },
     "execution_count": 60,
     "metadata": {},
     "output_type": "execute_result"
    }
   ],
   "source": [
    "enem_escolas['Q003'].unique()"
   ]
  },
  {
   "cell_type": "code",
   "execution_count": 61,
   "metadata": {},
   "outputs": [
    {
     "data": {
      "text/plain": [
       "array(['B', 'C', 'D', 'F', 'A', 'E', nan], dtype=object)"
      ]
     },
     "execution_count": 61,
     "metadata": {},
     "output_type": "execute_result"
    }
   ],
   "source": [
    "enem_escolas['Q004'].unique()"
   ]
  },
  {
   "cell_type": "code",
   "execution_count": 62,
   "metadata": {},
   "outputs": [],
   "source": [
    "q = ['Q003','Q004']\n",
    "for a in q:\n",
    "    enem_escolas[a].fillna('Não informado', inplace = True)\n",
    "    enem_escolas[a].replace(to_replace = 'A', value = 'Grupo 1', inplace = True)\n",
    "    enem_escolas[a].replace(to_replace = 'B', value = 'Grupo 2', inplace = True)\n",
    "    enem_escolas[a].replace(to_replace = 'C', value = 'Grupo 3', inplace = True)\n",
    "    enem_escolas[a].replace(to_replace = 'D', value = 'Grupo 4', inplace = True)\n",
    "    enem_escolas[a].replace(to_replace = 'E', value = 'Grupo 5', inplace = True)\n",
    "    enem_escolas[a].replace(to_replace = 'F', value = 'Não sei.', inplace = True)"
   ]
  },
  {
   "cell_type": "code",
   "execution_count": 63,
   "metadata": {},
   "outputs": [
    {
     "data": {
      "text/plain": [
       "array(['Grupo 3', 'Grupo 4', 'Grupo 5', 'Grupo 2', 'Grupo 1', 'Não sei.',\n",
       "       'Não informado'], dtype=object)"
      ]
     },
     "execution_count": 63,
     "metadata": {},
     "output_type": "execute_result"
    }
   ],
   "source": [
    "enem_escolas['Q003'].unique()"
   ]
  },
  {
   "cell_type": "code",
   "execution_count": 64,
   "metadata": {},
   "outputs": [
    {
     "data": {
      "text/plain": [
       "array(['Grupo 2', 'Grupo 3', 'Grupo 4', 'Não sei.', 'Grupo 1', 'Grupo 5',\n",
       "       'Não informado'], dtype=object)"
      ]
     },
     "execution_count": 64,
     "metadata": {},
     "output_type": "execute_result"
    }
   ],
   "source": [
    "enem_escolas['Q004'].unique()"
   ]
  },
  {
   "cell_type": "code",
   "execution_count": 65,
   "metadata": {},
   "outputs": [
    {
     "data": {
      "text/plain": [
       "array([ 3.,  5.,  4.,  2.,  7.,  6.,  1., 10., nan,  8.,  9., 11., 13.,\n",
       "       14., 12., 20., 19., 18., 16., 17., 15.])"
      ]
     },
     "execution_count": 65,
     "metadata": {},
     "output_type": "execute_result"
    }
   ],
   "source": [
    "enem_escolas['Q005'].unique()"
   ]
  },
  {
   "cell_type": "code",
   "execution_count": 66,
   "metadata": {},
   "outputs": [],
   "source": [
    "enem_escolas['Q005'].fillna('Não informado', inplace = True)"
   ]
  },
  {
   "cell_type": "code",
   "execution_count": 67,
   "metadata": {},
   "outputs": [
    {
     "data": {
      "text/plain": [
       "array(['B', 'C', 'G', 'N', 'E', 'D', 'K', 'I', 'F', 'J', 'H', 'L', 'O',\n",
       "       'Q', nan, 'A', 'M', 'P'], dtype=object)"
      ]
     },
     "execution_count": 67,
     "metadata": {},
     "output_type": "execute_result"
    }
   ],
   "source": [
    "enem_escolas['Q006'].unique()"
   ]
  },
  {
   "cell_type": "code",
   "execution_count": 68,
   "metadata": {},
   "outputs": [],
   "source": [
    "a = 'Q006'\n",
    "enem_escolas[a].fillna('Não informado', inplace = True)\n",
    "enem_escolas[a].replace(to_replace = 'A', value = 'Nenhuma renda', inplace = True)\n",
    "enem_escolas[a].replace(to_replace = 'B', value = 'Até R$ 998,00', inplace = True)\n",
    "enem_escolas[a].replace(to_replace = 'C', value = 'De R$ 998,01 até R$ 1.497,00', inplace = True)\n",
    "enem_escolas[a].replace(to_replace = 'D', value = 'De R$ 1.497,01 até R$ 1.996,00', inplace = True)\n",
    "enem_escolas[a].replace(to_replace = 'E', value = 'De R$ 1.996,01 até R$ 2.495,00', inplace = True)\n",
    "enem_escolas[a].replace(to_replace = 'F', value = 'De R$ 2.495,01 até R$ 2.994,00', inplace = True)\n",
    "enem_escolas[a].replace(to_replace = 'G', value = 'De R$ 2.994,01 até R$ 3.992,00', inplace = True)\n",
    "enem_escolas[a].replace(to_replace = 'H', value = 'De R$ 3.992,01 até R$ 4.990,00', inplace = True)\n",
    "enem_escolas[a].replace(to_replace = 'I', value = 'De R$ 4.990,01 até R$ 5.988,00', inplace = True)\n",
    "enem_escolas[a].replace(to_replace = 'J', value = 'De R$ 5.988,01 até R$ 6.986,00', inplace = True)\n",
    "enem_escolas[a].replace(to_replace = 'K', value = 'De R$ 6.986,01 até R$ 7.984,00', inplace = True)\n",
    "enem_escolas[a].replace(to_replace = 'L', value = 'De R$ 7.984,01 até R$ 8.982,00', inplace = True)\n",
    "enem_escolas[a].replace(to_replace = 'M', value = 'De R$ 8.982,01 até R$ 9.980,00', inplace = True)\n",
    "enem_escolas[a].replace(to_replace = 'N', value = 'De R$ 9.980,01 até R$ 11.976,00', inplace = True)\n",
    "enem_escolas[a].replace(to_replace = 'O', value = 'De R$ 11.976,01 até R$ 14.970,00', inplace = True)\n",
    "enem_escolas[a].replace(to_replace = 'P', value = 'De R$ 14.970,01 até R$ 19.960,00', inplace = True)\n",
    "enem_escolas[a].replace(to_replace = 'Q', value = 'Mais de R$ 19.960,00.', inplace = True)\n"
   ]
  },
  {
   "cell_type": "code",
   "execution_count": 69,
   "metadata": {},
   "outputs": [
    {
     "data": {
      "text/plain": [
       "array(['Até R$ 998,00', 'De R$ 998,01 até R$ 1.497,00',\n",
       "       'De R$ 2.994,01 até R$ 3.992,00',\n",
       "       'De R$ 9.980,01 até R$ 11.976,00',\n",
       "       'De R$ 1.996,01 até R$ 2.495,00', 'De R$ 1.497,01 até R$ 1.996,00',\n",
       "       'De R$ 6.986,01 até R$ 7.984,00', 'De R$ 4.990,01 até R$ 5.988,00',\n",
       "       'De R$ 2.495,01 até R$ 2.994,00', 'De R$ 5.988,01 até R$ 6.986,00',\n",
       "       'De R$ 3.992,01 até R$ 4.990,00', 'De R$ 7.984,01 até R$ 8.982,00',\n",
       "       'De R$ 11.976,01 até R$ 14.970,00', 'Mais de R$ 19.960,00.',\n",
       "       'Não informado', 'Nenhuma renda', 'De R$ 8.982,01 até R$ 9.980,00',\n",
       "       'De R$ 14.970,01 até R$ 19.960,00'], dtype=object)"
      ]
     },
     "execution_count": 69,
     "metadata": {},
     "output_type": "execute_result"
    }
   ],
   "source": [
    "enem_escolas['Q006'].unique()"
   ]
  },
  {
   "cell_type": "code",
   "execution_count": 70,
   "metadata": {},
   "outputs": [
    {
     "data": {
      "text/plain": [
       "array(['A', 'D', 'B', nan, 'C'], dtype=object)"
      ]
     },
     "execution_count": 70,
     "metadata": {},
     "output_type": "execute_result"
    }
   ],
   "source": [
    "enem_escolas['Q007'].unique()"
   ]
  },
  {
   "cell_type": "code",
   "execution_count": 71,
   "metadata": {},
   "outputs": [],
   "source": [
    "a = 'Q007'\n",
    "enem_escolas[a].fillna('Não informado', inplace = True)\n",
    "enem_escolas[a].replace(to_replace = 'A', value = 'Não', inplace = True)\n",
    "enem_escolas[a].replace(to_replace = 'B', value = 'Sim, um ou dois dias por semana', inplace = True)\n",
    "enem_escolas[a].replace(to_replace = 'C', value = 'Sim, três ou quatro dias por semana', inplace = True)\n",
    "enem_escolas[a].replace(to_replace = 'D', value = 'Sim, pelo menos cinco dias por semana', inplace = True)"
   ]
  },
  {
   "cell_type": "code",
   "execution_count": 72,
   "metadata": {},
   "outputs": [
    {
     "data": {
      "text/plain": [
       "array(['Não', 'Sim, pelo menos cinco dias por semana',\n",
       "       'Sim, um ou dois dias por semana', 'Não informado',\n",
       "       'Sim, três ou quatro dias por semana'], dtype=object)"
      ]
     },
     "execution_count": 72,
     "metadata": {},
     "output_type": "execute_result"
    }
   ],
   "source": [
    "enem_escolas['Q007'].unique()"
   ]
  },
  {
   "cell_type": "code",
   "execution_count": 73,
   "metadata": {},
   "outputs": [
    {
     "name": "stdout",
     "output_type": "stream",
     "text": [
      "Q008\n",
      "['B' 'C' 'D' 'E' nan 'A']\n",
      "Q009\n",
      "['D' 'C' 'E' 'B' nan 'A']\n",
      "Q010\n",
      "['A' 'B' 'C' nan 'D' 'E']\n",
      "Q011\n",
      "['A' 'B' nan 'C' 'E' 'D']\n",
      "Q012\n",
      "['B' 'C' 'D' 'A' nan 'E']\n",
      "Q013\n",
      "['B' 'A' 'E' nan 'C' 'D']\n",
      "Q014\n",
      "['A' 'B' nan 'C' 'D' 'E']\n",
      "Q015\n",
      "['A' 'B' nan 'C' 'D' 'E']\n",
      "Q016\n",
      "['A' 'B' 'C' nan 'E' 'D']\n",
      "Q017\n",
      "['A' 'B' nan 'C' 'D' 'E']\n",
      "Q019\n",
      "['C' 'D' 'B' 'E' 'A' nan]\n",
      "Q022\n",
      "['D' 'C' 'E' 'B' 'A' nan]\n",
      "Q024\n",
      "['B' 'C' 'D' 'A' 'E' nan]\n"
     ]
    }
   ],
   "source": [
    "q = ['Q008', 'Q009', 'Q010', 'Q011', 'Q012', 'Q013', 'Q014','Q015', 'Q016', 'Q017','Q019', 'Q022', 'Q024']\n",
    "for a in q:\n",
    "    print(a)\n",
    "    print(enem_escolas[a].unique())"
   ]
  },
  {
   "cell_type": "code",
   "execution_count": 74,
   "metadata": {},
   "outputs": [],
   "source": [
    "q = ['Q008', 'Q009', 'Q010', 'Q011', 'Q012', 'Q013', 'Q014','Q015', 'Q016', 'Q017','Q019', 'Q022', 'Q024']\n",
    "for a in q:\n",
    "    enem_escolas[a].fillna('Não informado', inplace = True)\n",
    "    enem_escolas[a].replace(to_replace = 'A', value = 'Não', inplace = True)\n",
    "    enem_escolas[a].replace(to_replace = 'B', value = 'Sim, um', inplace = True)\n",
    "    enem_escolas[a].replace(to_replace = 'C', value = 'Sim, dois', inplace = True)\n",
    "    enem_escolas[a].replace(to_replace = 'D', value = 'Sim, três', inplace = True)\n",
    "    enem_escolas[a].replace(to_replace = 'E', value = 'Sim, quatro ou mais', inplace = True)"
   ]
  },
  {
   "cell_type": "code",
   "execution_count": 75,
   "metadata": {},
   "outputs": [
    {
     "name": "stdout",
     "output_type": "stream",
     "text": [
      "Q008\n",
      "['Sim, um' 'Sim, dois' 'Sim, três' 'Sim, quatro ou mais' 'Não informado'\n",
      " 'Não']\n",
      "Q009\n",
      "['Sim, três' 'Sim, dois' 'Sim, quatro ou mais' 'Sim, um' 'Não informado'\n",
      " 'Não']\n",
      "Q010\n",
      "['Não' 'Sim, um' 'Sim, dois' 'Não informado' 'Sim, três'\n",
      " 'Sim, quatro ou mais']\n",
      "Q011\n",
      "['Não' 'Sim, um' 'Não informado' 'Sim, dois' 'Sim, quatro ou mais'\n",
      " 'Sim, três']\n",
      "Q012\n",
      "['Sim, um' 'Sim, dois' 'Sim, três' 'Não' 'Não informado'\n",
      " 'Sim, quatro ou mais']\n",
      "Q013\n",
      "['Sim, um' 'Não' 'Sim, quatro ou mais' 'Não informado' 'Sim, dois'\n",
      " 'Sim, três']\n",
      "Q014\n",
      "['Não' 'Sim, um' 'Não informado' 'Sim, dois' 'Sim, três'\n",
      " 'Sim, quatro ou mais']\n",
      "Q015\n",
      "['Não' 'Sim, um' 'Não informado' 'Sim, dois' 'Sim, três'\n",
      " 'Sim, quatro ou mais']\n",
      "Q016\n",
      "['Não' 'Sim, um' 'Sim, dois' 'Não informado' 'Sim, quatro ou mais'\n",
      " 'Sim, três']\n",
      "Q017\n",
      "['Não' 'Sim, um' 'Não informado' 'Sim, dois' 'Sim, três'\n",
      " 'Sim, quatro ou mais']\n",
      "Q019\n",
      "['Sim, dois' 'Sim, três' 'Sim, um' 'Sim, quatro ou mais' 'Não'\n",
      " 'Não informado']\n",
      "Q022\n",
      "['Sim, três' 'Sim, dois' 'Sim, quatro ou mais' 'Sim, um' 'Não'\n",
      " 'Não informado']\n",
      "Q024\n",
      "['Sim, um' 'Sim, dois' 'Sim, três' 'Não' 'Sim, quatro ou mais'\n",
      " 'Não informado']\n"
     ]
    }
   ],
   "source": [
    "q = ['Q008', 'Q009', 'Q010', 'Q011', 'Q012', 'Q013', 'Q014','Q015', 'Q016', 'Q017','Q019', 'Q022', 'Q024']\n",
    "for a in q:\n",
    "    print(a)\n",
    "    print(enem_escolas[a].unique())"
   ]
  },
  {
   "cell_type": "code",
   "execution_count": 76,
   "metadata": {},
   "outputs": [
    {
     "name": "stdout",
     "output_type": "stream",
     "text": [
      "Q018\n",
      "['A' 'B' nan]\n",
      "Q020\n",
      "['B' 'A' nan]\n",
      "Q021\n",
      "['A' 'B' nan]\n",
      "Q023\n",
      "['B' 'A' nan]\n",
      "Q025\n",
      "['B' 'A' nan]\n"
     ]
    }
   ],
   "source": [
    "q = [ 'Q018', 'Q020', 'Q021','Q023','Q025']\n",
    "for a in q:\n",
    "    print(a)\n",
    "    print(enem_escolas[a].unique())"
   ]
  },
  {
   "cell_type": "code",
   "execution_count": 77,
   "metadata": {},
   "outputs": [],
   "source": [
    "q = [ 'Q018', 'Q020', 'Q021','Q023','Q025']\n",
    "for a in q:\n",
    "    enem_escolas[a].fillna('Não informado', inplace = True)\n",
    "    enem_escolas[a].replace(to_replace = 'A', value = 'Não', inplace = True)\n",
    "    enem_escolas[a].replace(to_replace = 'B', value = 'Sim', inplace = True)   "
   ]
  },
  {
   "cell_type": "code",
   "execution_count": 78,
   "metadata": {},
   "outputs": [
    {
     "name": "stdout",
     "output_type": "stream",
     "text": [
      "Q018\n",
      "['Não' 'Sim' 'Não informado']\n",
      "Q020\n",
      "['Sim' 'Não' 'Não informado']\n",
      "Q021\n",
      "['Não' 'Sim' 'Não informado']\n",
      "Q023\n",
      "['Sim' 'Não' 'Não informado']\n",
      "Q025\n",
      "['Sim' 'Não' 'Não informado']\n"
     ]
    }
   ],
   "source": [
    "q = [ 'Q018', 'Q020', 'Q021','Q023','Q025']\n",
    "for a in q:\n",
    "    print(a)\n",
    "    print(enem_escolas[a].unique())"
   ]
  },
  {
   "cell_type": "code",
   "execution_count": 79,
   "metadata": {},
   "outputs": [
    {
     "name": "stdout",
     "output_type": "stream",
     "text": [
      "ind_rede\n",
      "[0. 1.]\n",
      "ind_concorrente\n",
      "[nan  1.]\n",
      "IN_DESKTOP_ALUNO\n",
      "[nan  1.  0.]\n",
      "IN_COMP_PORTATIL_ALUNO\n",
      "[nan  0.  1.]\n",
      "IN_TABLET_ALUNO\n",
      "[nan  0.  1.]\n",
      "IN_INTERNET\n",
      "[ 1.  0. nan]\n",
      "IN_INTERNET_ALUNOS\n",
      "[nan  0.  1.]\n",
      "IN_INTERNET_ADMINISTRATIVO\n",
      "[nan  1.  0.]\n",
      "IN_INTERNET_APRENDIZAGEM\n",
      "[nan  0.  1.]\n",
      "IN_INTERNET_COMUNIDADE\n",
      "[nan  0.  1.]\n",
      "IN_ACESSO_INTERNET_COMPUTADOR\n",
      "[nan  0.  1.  9.]\n",
      "IN_ACES_INTERNET_DISP_PESSOAIS\n",
      "[nan  0.  1.  9.]\n",
      "TP_REDE_LOCAL\n",
      "[nan  0.  3.  1.  2.  9.]\n",
      "IN_BANDA_LARGA\n",
      "[ 1.  0. nan]\n",
      "IN_MATERIAL_PED_MULTIMIDIA\n",
      "[nan  9.  1.  0.]\n",
      "IN_RESERVA_RENDA\n",
      "[nan  1.  0.]\n",
      "IN_RESERVA_PPI\n",
      "[nan  1.  0.]\n",
      "IN_RESERVA_PUBLICA\n",
      "[nan  1.  0.]\n",
      "IN_EXAME_SELECAO\n",
      "[nan  0.  1.  9.]\n",
      "IN_BIBLIOTECA\n",
      "[ 1.  0. nan]\n",
      "IN_BIBLIOTECA_SALA_LEITURA\n",
      "[ 1. nan  0.]\n",
      "IN_LABORATORIO_CIENCIAS\n",
      "[ 1.  0. nan]\n",
      "IN_LABORATORIO_INFORMATICA\n",
      "[ 1.  0. nan]\n",
      "IN_EQUIP_LOUSA_DIGITAL\n",
      "[nan  0.  1.]\n",
      "IN_EQUIP_MULTIMIDIA\n",
      "[ 1.  0. nan]\n"
     ]
    }
   ],
   "source": [
    "q = [  'ind_rede', 'ind_concorrente','IN_DESKTOP_ALUNO', 'IN_COMP_PORTATIL_ALUNO','IN_TABLET_ALUNO', 'IN_INTERNET',\n",
    "     'IN_INTERNET_ALUNOS', 'IN_INTERNET_ADMINISTRATIVO','IN_INTERNET_APRENDIZAGEM', 'IN_INTERNET_COMUNIDADE',\n",
    "     'IN_ACESSO_INTERNET_COMPUTADOR', 'IN_ACES_INTERNET_DISP_PESSOAIS','TP_REDE_LOCAL', 'IN_BANDA_LARGA',\n",
    "     'IN_MATERIAL_PED_MULTIMIDIA', 'IN_RESERVA_RENDA', 'IN_RESERVA_PPI','IN_RESERVA_PUBLICA', 'IN_EXAME_SELECAO',\n",
    "     'IN_BIBLIOTECA', 'IN_BIBLIOTECA_SALA_LEITURA', 'IN_LABORATORIO_CIENCIAS', 'IN_LABORATORIO_INFORMATICA','IN_EQUIP_LOUSA_DIGITAL',\n",
    "     'IN_EQUIP_MULTIMIDIA']\n",
    "for a in q:\n",
    "    print(a)\n",
    "    print(enem_escolas[a].unique())"
   ]
  },
  {
   "cell_type": "code",
   "execution_count": 80,
   "metadata": {},
   "outputs": [],
   "source": [
    "q = [ 'ind_rede', 'ind_concorrente','IN_DESKTOP_ALUNO', 'IN_COMP_PORTATIL_ALUNO','IN_TABLET_ALUNO', 'IN_INTERNET',\n",
    "     'IN_INTERNET_ALUNOS', 'IN_INTERNET_ADMINISTRATIVO','IN_INTERNET_APRENDIZAGEM', 'IN_INTERNET_COMUNIDADE',\n",
    "     'IN_ACESSO_INTERNET_COMPUTADOR', 'IN_ACES_INTERNET_DISP_PESSOAIS', 'IN_BANDA_LARGA',\n",
    "     'IN_MATERIAL_PED_MULTIMIDIA', 'IN_RESERVA_RENDA', 'IN_RESERVA_PPI','IN_RESERVA_PUBLICA', 'IN_EXAME_SELECAO',\n",
    "     'IN_BIBLIOTECA', 'IN_BIBLIOTECA_SALA_LEITURA', 'IN_LABORATORIO_CIENCIAS', 'IN_LABORATORIO_INFORMATICA','IN_EQUIP_LOUSA_DIGITAL',\n",
    "     'IN_EQUIP_MULTIMIDIA']\n",
    "for a in q:\n",
    "    enem_escolas[a].fillna('Não', inplace = True)\n",
    "    enem_escolas[a].replace(to_replace = 0, value = 'Não', inplace = True)\n",
    "    enem_escolas[a].replace(to_replace = 1, value = 'Sim', inplace = True)\n",
    "    enem_escolas[a].replace(to_replace = 9, value = 'Não informado', inplace = True)"
   ]
  },
  {
   "cell_type": "code",
   "execution_count": 81,
   "metadata": {},
   "outputs": [
    {
     "name": "stdout",
     "output_type": "stream",
     "text": [
      "ind_rede\n",
      "['Não' 'Sim']\n",
      "ind_concorrente\n",
      "['Não' 'Sim']\n",
      "IN_DESKTOP_ALUNO\n",
      "['Não' 'Sim']\n",
      "IN_COMP_PORTATIL_ALUNO\n",
      "['Não' 'Sim']\n",
      "IN_TABLET_ALUNO\n",
      "['Não' 'Sim']\n",
      "IN_INTERNET\n",
      "['Sim' 'Não']\n",
      "IN_INTERNET_ALUNOS\n",
      "['Não' 'Sim']\n",
      "IN_INTERNET_ADMINISTRATIVO\n",
      "['Não' 'Sim']\n",
      "IN_INTERNET_APRENDIZAGEM\n",
      "['Não' 'Sim']\n",
      "IN_INTERNET_COMUNIDADE\n",
      "['Não' 'Sim']\n",
      "IN_ACESSO_INTERNET_COMPUTADOR\n",
      "['Não' 'Sim' 'Não informado']\n",
      "IN_ACES_INTERNET_DISP_PESSOAIS\n",
      "['Não' 'Sim' 'Não informado']\n",
      "IN_BANDA_LARGA\n",
      "['Sim' 'Não']\n",
      "IN_MATERIAL_PED_MULTIMIDIA\n",
      "['Não' 'Não informado' 'Sim']\n",
      "IN_RESERVA_RENDA\n",
      "['Não' 'Sim']\n",
      "IN_RESERVA_PPI\n",
      "['Não' 'Sim']\n",
      "IN_RESERVA_PUBLICA\n",
      "['Não' 'Sim']\n",
      "IN_EXAME_SELECAO\n",
      "['Não' 'Sim' 'Não informado']\n",
      "IN_BIBLIOTECA\n",
      "['Sim' 'Não']\n",
      "IN_BIBLIOTECA_SALA_LEITURA\n",
      "['Sim' 'Não']\n",
      "IN_LABORATORIO_CIENCIAS\n",
      "['Sim' 'Não']\n",
      "IN_LABORATORIO_INFORMATICA\n",
      "['Sim' 'Não']\n",
      "IN_EQUIP_LOUSA_DIGITAL\n",
      "['Não' 'Sim']\n",
      "IN_EQUIP_MULTIMIDIA\n",
      "['Sim' 'Não']\n"
     ]
    }
   ],
   "source": [
    "q = [  'ind_rede', 'ind_concorrente','IN_DESKTOP_ALUNO', 'IN_COMP_PORTATIL_ALUNO','IN_TABLET_ALUNO', 'IN_INTERNET',\n",
    "     'IN_INTERNET_ALUNOS', 'IN_INTERNET_ADMINISTRATIVO','IN_INTERNET_APRENDIZAGEM', 'IN_INTERNET_COMUNIDADE',\n",
    "     'IN_ACESSO_INTERNET_COMPUTADOR', 'IN_ACES_INTERNET_DISP_PESSOAIS', 'IN_BANDA_LARGA',\n",
    "     'IN_MATERIAL_PED_MULTIMIDIA', 'IN_RESERVA_RENDA', 'IN_RESERVA_PPI','IN_RESERVA_PUBLICA', 'IN_EXAME_SELECAO',\n",
    "     'IN_BIBLIOTECA', 'IN_BIBLIOTECA_SALA_LEITURA', 'IN_LABORATORIO_CIENCIAS', 'IN_LABORATORIO_INFORMATICA','IN_EQUIP_LOUSA_DIGITAL',\n",
    "     'IN_EQUIP_MULTIMIDIA']\n",
    "for a in q:\n",
    "    print(a)\n",
    "    print(enem_escolas[a].unique())"
   ]
  },
  {
   "cell_type": "code",
   "execution_count": 82,
   "metadata": {},
   "outputs": [
    {
     "data": {
      "text/plain": [
       "array([nan,  0.,  3.,  1.,  2.,  9.])"
      ]
     },
     "execution_count": 82,
     "metadata": {},
     "output_type": "execute_result"
    }
   ],
   "source": [
    "enem_escolas['TP_REDE_LOCAL'].unique()"
   ]
  },
  {
   "cell_type": "code",
   "execution_count": 83,
   "metadata": {},
   "outputs": [],
   "source": [
    "a = 'TP_REDE_LOCAL'\n",
    "enem_escolas[a].fillna('Não', inplace = True)\n",
    "enem_escolas[a].replace(to_replace = 0, value = 'Não', inplace = True) ## Não há rede local interligando computadores\n",
    "enem_escolas[a].replace(to_replace = 1, value = 'Sim', inplace = True) ## A cabo\n",
    "enem_escolas[a].replace(to_replace = 2, value = 'Sim', inplace = True) ## Wireless\n",
    "enem_escolas[a].replace(to_replace = 3, value = 'Sim', inplace = True) ## A cabo e Wireless\n",
    "enem_escolas[a].replace(to_replace = 9, value = 'Não informado', inplace = True)"
   ]
  },
  {
   "cell_type": "code",
   "execution_count": 84,
   "metadata": {},
   "outputs": [
    {
     "data": {
      "text/plain": [
       "array(['Não', 'Sim', 'Não informado'], dtype=object)"
      ]
     },
     "execution_count": 84,
     "metadata": {},
     "output_type": "execute_result"
    }
   ],
   "source": [
    "enem_escolas['TP_REDE_LOCAL'].unique()"
   ]
  },
  {
   "cell_type": "code",
   "execution_count": 85,
   "metadata": {},
   "outputs": [],
   "source": [
    "q = ['QT_PROF_PEDAGOGIA','QT_TABLET_ALUNO', 'QT_PROF_COORDENADOR', 'QT_EQUIP_LOUSA_DIGITAL', 'QT_DESKTOP_ALUNO',\n",
    "    'QT_COMP_PORTATIL_ALUNO','QT_PROF_PSICOLOGO', 'QT_EQUIP_MULTIMIDIA' ]\n",
    "for a in q:\n",
    "    enem_escolas[a].fillna(0, inplace = True)"
   ]
  },
  {
   "cell_type": "code",
   "execution_count": 86,
   "metadata": {},
   "outputs": [],
   "source": [
    "vazios = pd.DataFrame({'Tipos':enem_escolas.dtypes, 'NaN':enem_escolas.isna().sum(),'Total':enem_escolas.count()}).sort_values('NaN', ascending = False)"
   ]
  },
  {
   "cell_type": "code",
   "execution_count": 87,
   "metadata": {},
   "outputs": [
    {
     "data": {
      "text/html": [
       "<div>\n",
       "<style scoped>\n",
       "    .dataframe tbody tr th:only-of-type {\n",
       "        vertical-align: middle;\n",
       "    }\n",
       "\n",
       "    .dataframe tbody tr th {\n",
       "        vertical-align: top;\n",
       "    }\n",
       "\n",
       "    .dataframe thead th {\n",
       "        text-align: right;\n",
       "    }\n",
       "</style>\n",
       "<table border=\"1\" class=\"dataframe\">\n",
       "  <thead>\n",
       "    <tr style=\"text-align: right;\">\n",
       "      <th></th>\n",
       "      <th>Tipos</th>\n",
       "      <th>NaN</th>\n",
       "      <th>Total</th>\n",
       "    </tr>\n",
       "  </thead>\n",
       "  <tbody>\n",
       "    <tr>\n",
       "      <td>NU_NOTA_MT</td>\n",
       "      <td>float64</td>\n",
       "      <td>106628</td>\n",
       "      <td>523034</td>\n",
       "    </tr>\n",
       "    <tr>\n",
       "      <td>NU_NOTA_CN</td>\n",
       "      <td>float64</td>\n",
       "      <td>102232</td>\n",
       "      <td>527430</td>\n",
       "    </tr>\n",
       "    <tr>\n",
       "      <td>NU_NOTA_LC</td>\n",
       "      <td>float64</td>\n",
       "      <td>92481</td>\n",
       "      <td>537181</td>\n",
       "    </tr>\n",
       "    <tr>\n",
       "      <td>NU_NOTA_CH</td>\n",
       "      <td>float64</td>\n",
       "      <td>88085</td>\n",
       "      <td>541577</td>\n",
       "    </tr>\n",
       "    <tr>\n",
       "      <td>NU_NOTA_REDACAO</td>\n",
       "      <td>float64</td>\n",
       "      <td>74334</td>\n",
       "      <td>555328</td>\n",
       "    </tr>\n",
       "    <tr>\n",
       "      <td>NU_NOTA_COMP5</td>\n",
       "      <td>float64</td>\n",
       "      <td>74334</td>\n",
       "      <td>555328</td>\n",
       "    </tr>\n",
       "    <tr>\n",
       "      <td>NU_NOTA_COMP4</td>\n",
       "      <td>float64</td>\n",
       "      <td>74334</td>\n",
       "      <td>555328</td>\n",
       "    </tr>\n",
       "    <tr>\n",
       "      <td>NU_NOTA_COMP3</td>\n",
       "      <td>float64</td>\n",
       "      <td>74334</td>\n",
       "      <td>555328</td>\n",
       "    </tr>\n",
       "    <tr>\n",
       "      <td>NU_NOTA_COMP1</td>\n",
       "      <td>float64</td>\n",
       "      <td>74334</td>\n",
       "      <td>555328</td>\n",
       "    </tr>\n",
       "    <tr>\n",
       "      <td>NU_NOTA_COMP2</td>\n",
       "      <td>float64</td>\n",
       "      <td>74334</td>\n",
       "      <td>555328</td>\n",
       "    </tr>\n",
       "    <tr>\n",
       "      <td>Unnamed: 0</td>\n",
       "      <td>float64</td>\n",
       "      <td>478</td>\n",
       "      <td>629184</td>\n",
       "    </tr>\n",
       "    <tr>\n",
       "      <td>CO_MUNICIPIO</td>\n",
       "      <td>float64</td>\n",
       "      <td>478</td>\n",
       "      <td>629184</td>\n",
       "    </tr>\n",
       "    <tr>\n",
       "      <td>NO_ENTIDADE</td>\n",
       "      <td>object</td>\n",
       "      <td>478</td>\n",
       "      <td>629184</td>\n",
       "    </tr>\n",
       "    <tr>\n",
       "      <td>CO_ENTIDADE</td>\n",
       "      <td>float64</td>\n",
       "      <td>478</td>\n",
       "      <td>629184</td>\n",
       "    </tr>\n",
       "    <tr>\n",
       "      <td>NU_ANO_CENSO</td>\n",
       "      <td>float64</td>\n",
       "      <td>478</td>\n",
       "      <td>629184</td>\n",
       "    </tr>\n",
       "    <tr>\n",
       "      <td>NU_IDADE</td>\n",
       "      <td>float64</td>\n",
       "      <td>16</td>\n",
       "      <td>629646</td>\n",
       "    </tr>\n",
       "  </tbody>\n",
       "</table>\n",
       "</div>"
      ],
      "text/plain": [
       "                   Tipos     NaN   Total\n",
       "NU_NOTA_MT       float64  106628  523034\n",
       "NU_NOTA_CN       float64  102232  527430\n",
       "NU_NOTA_LC       float64   92481  537181\n",
       "NU_NOTA_CH       float64   88085  541577\n",
       "NU_NOTA_REDACAO  float64   74334  555328\n",
       "NU_NOTA_COMP5    float64   74334  555328\n",
       "NU_NOTA_COMP4    float64   74334  555328\n",
       "NU_NOTA_COMP3    float64   74334  555328\n",
       "NU_NOTA_COMP1    float64   74334  555328\n",
       "NU_NOTA_COMP2    float64   74334  555328\n",
       "Unnamed: 0       float64     478  629184\n",
       "CO_MUNICIPIO     float64     478  629184\n",
       "NO_ENTIDADE       object     478  629184\n",
       "CO_ENTIDADE      float64     478  629184\n",
       "NU_ANO_CENSO     float64     478  629184\n",
       "NU_IDADE         float64      16  629646"
      ]
     },
     "execution_count": 87,
     "metadata": {},
     "output_type": "execute_result"
    }
   ],
   "source": [
    "vazios[vazios['NaN']>0]"
   ]
  },
  {
   "cell_type": "code",
   "execution_count": 88,
   "metadata": {},
   "outputs": [],
   "source": [
    "enem_escolas.dropna(axis = 0, how = 'all', inplace=True, subset= ['CO_ENTIDADE'])\n",
    "enem_escolas.dropna(axis = 0, how = 'all', inplace=True, subset= [ 'NU_IDADE'])"
   ]
  },
  {
   "cell_type": "code",
   "execution_count": 89,
   "metadata": {},
   "outputs": [],
   "source": [
    "vazios = pd.DataFrame({'Tipos':enem_escolas.dtypes, 'NaN':enem_escolas.isna().sum(),'Total':enem_escolas.count()}).sort_values('NaN', ascending = False)"
   ]
  },
  {
   "cell_type": "code",
   "execution_count": 90,
   "metadata": {},
   "outputs": [
    {
     "data": {
      "text/html": [
       "<div>\n",
       "<style scoped>\n",
       "    .dataframe tbody tr th:only-of-type {\n",
       "        vertical-align: middle;\n",
       "    }\n",
       "\n",
       "    .dataframe tbody tr th {\n",
       "        vertical-align: top;\n",
       "    }\n",
       "\n",
       "    .dataframe thead th {\n",
       "        text-align: right;\n",
       "    }\n",
       "</style>\n",
       "<table border=\"1\" class=\"dataframe\">\n",
       "  <thead>\n",
       "    <tr style=\"text-align: right;\">\n",
       "      <th></th>\n",
       "      <th>Tipos</th>\n",
       "      <th>NaN</th>\n",
       "      <th>Total</th>\n",
       "    </tr>\n",
       "  </thead>\n",
       "  <tbody>\n",
       "    <tr>\n",
       "      <td>NU_NOTA_MT</td>\n",
       "      <td>float64</td>\n",
       "      <td>106511</td>\n",
       "      <td>522657</td>\n",
       "    </tr>\n",
       "    <tr>\n",
       "      <td>NU_NOTA_CN</td>\n",
       "      <td>float64</td>\n",
       "      <td>102117</td>\n",
       "      <td>527051</td>\n",
       "    </tr>\n",
       "    <tr>\n",
       "      <td>NU_NOTA_LC</td>\n",
       "      <td>float64</td>\n",
       "      <td>92374</td>\n",
       "      <td>536794</td>\n",
       "    </tr>\n",
       "    <tr>\n",
       "      <td>NU_NOTA_CH</td>\n",
       "      <td>float64</td>\n",
       "      <td>87980</td>\n",
       "      <td>541188</td>\n",
       "    </tr>\n",
       "    <tr>\n",
       "      <td>NU_NOTA_REDACAO</td>\n",
       "      <td>float64</td>\n",
       "      <td>74236</td>\n",
       "      <td>554932</td>\n",
       "    </tr>\n",
       "    <tr>\n",
       "      <td>NU_NOTA_COMP5</td>\n",
       "      <td>float64</td>\n",
       "      <td>74236</td>\n",
       "      <td>554932</td>\n",
       "    </tr>\n",
       "    <tr>\n",
       "      <td>NU_NOTA_COMP4</td>\n",
       "      <td>float64</td>\n",
       "      <td>74236</td>\n",
       "      <td>554932</td>\n",
       "    </tr>\n",
       "    <tr>\n",
       "      <td>NU_NOTA_COMP3</td>\n",
       "      <td>float64</td>\n",
       "      <td>74236</td>\n",
       "      <td>554932</td>\n",
       "    </tr>\n",
       "    <tr>\n",
       "      <td>NU_NOTA_COMP2</td>\n",
       "      <td>float64</td>\n",
       "      <td>74236</td>\n",
       "      <td>554932</td>\n",
       "    </tr>\n",
       "    <tr>\n",
       "      <td>NU_NOTA_COMP1</td>\n",
       "      <td>float64</td>\n",
       "      <td>74236</td>\n",
       "      <td>554932</td>\n",
       "    </tr>\n",
       "  </tbody>\n",
       "</table>\n",
       "</div>"
      ],
      "text/plain": [
       "                   Tipos     NaN   Total\n",
       "NU_NOTA_MT       float64  106511  522657\n",
       "NU_NOTA_CN       float64  102117  527051\n",
       "NU_NOTA_LC       float64   92374  536794\n",
       "NU_NOTA_CH       float64   87980  541188\n",
       "NU_NOTA_REDACAO  float64   74236  554932\n",
       "NU_NOTA_COMP5    float64   74236  554932\n",
       "NU_NOTA_COMP4    float64   74236  554932\n",
       "NU_NOTA_COMP3    float64   74236  554932\n",
       "NU_NOTA_COMP2    float64   74236  554932\n",
       "NU_NOTA_COMP1    float64   74236  554932"
      ]
     },
     "execution_count": 90,
     "metadata": {},
     "output_type": "execute_result"
    }
   ],
   "source": [
    "vazios[vazios['NaN']>0]"
   ]
  },
  {
   "cell_type": "code",
   "execution_count": 91,
   "metadata": {},
   "outputs": [],
   "source": [
    "enem_escolas.to_csv(path_enem+'base_enem_completa.csv', sep = ';', encoding = 'ISO-8859-1', index = None)"
   ]
  },
  {
   "cell_type": "code",
   "execution_count": null,
   "metadata": {},
   "outputs": [],
   "source": []
  },
  {
   "cell_type": "code",
   "execution_count": null,
   "metadata": {},
   "outputs": [],
   "source": []
  },
  {
   "cell_type": "code",
   "execution_count": null,
   "metadata": {},
   "outputs": [],
   "source": []
  }
 ],
 "metadata": {
  "kernelspec": {
   "display_name": "Python 3",
   "language": "python",
   "name": "python3"
  },
  "language_info": {
   "codemirror_mode": {
    "name": "ipython",
    "version": 3
   },
   "file_extension": ".py",
   "mimetype": "text/x-python",
   "name": "python",
   "nbconvert_exporter": "python",
   "pygments_lexer": "ipython3",
   "version": "3.7.4"
  }
 },
 "nbformat": 4,
 "nbformat_minor": 2
}
